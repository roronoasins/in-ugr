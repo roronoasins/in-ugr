{
 "cells": [
  {
   "cell_type": "code",
   "execution_count": 1,
   "metadata": {},
   "outputs": [],
   "source": [
    "import pandas as pd\n",
    "import numpy as np"
   ]
  },
  {
   "cell_type": "code",
   "execution_count": 2,
   "metadata": {},
   "outputs": [],
   "source": [
    "column_names = ['TPR','TNR','FPR','FNR','AUC','G-Mean','F1', 'G-Measure']\n",
    "report = pd.DataFrame(columns = column_names)\n",
    "columns = ['id',\n",
    " 'Año',\n",
    " 'Kilometros',\n",
    " 'Combustible',\n",
    " 'Mano',\n",
    " 'Consumo',\n",
    " 'Motor_CC',\n",
    " 'Potencia',\n",
    " 'Asientos',\n",
    " 'Descuento',\n",
    " 'Precio_cat']\n",
    "columns_test = ['id',\n",
    " 'Año',\n",
    " 'Kilometros',\n",
    " 'Combustible',\n",
    " 'Mano',\n",
    " 'Consumo',\n",
    " 'Motor_CC',\n",
    " 'Potencia',\n",
    " 'Asientos',\n",
    " 'Descuento']"
   ]
  },
  {
   "cell_type": "code",
   "execution_count": 3,
   "metadata": {},
   "outputs": [],
   "source": [
    "import math\n",
    "\n",
    "def cmdata_report(cm, classifier, data):# add a df as parameter\n",
    "    total = cm.sum()\n",
    "    TP = cm[0,0]\n",
    "    FN = cm[0,1]\n",
    "    FP = cm[1,0]\n",
    "    TN = cm[1,1]\n",
    "    TPR = TP/(TP+FN)\n",
    "    TNR = TN/(TN+FP)\n",
    "    FPR = FP/(FP+TN)\n",
    "    FNR = FN/(FN+TP)\n",
    "    ratio = (cm[0,0]+cm[1,1])/total\n",
    "    PPV = TP/(TP+FP)\n",
    "    AUC = (1 + TPR - FPR)/2\n",
    "    GMEAN = math.sqrt(TNR*TPR)\n",
    "    F1 = 2*TP/(2*TP+FP+FN)\n",
    "    GMEASURE = math.sqrt(PPV*TPR)\n",
    "    \n",
    "    s = pd.Series([TPR,TNR,FPR,FNR,AUC,GMEAN,F1,GMEASURE], name=classifier, index=report.columns)\n",
    "    df = data.append(s)\n",
    "    return df"
   ]
  },
  {
   "cell_type": "code",
   "execution_count": 4,
   "metadata": {},
   "outputs": [],
   "source": [
    "def get_classification_report(y_test, y_pred):\n",
    "    from sklearn import metrics\n",
    "    report = metrics.classification_report(y_test, y_pred, output_dict=True)\n",
    "    df_classification_report = pd.DataFrame(report).transpose()\n",
    "    df_classification_report = df_classification_report.sort_values(by=['f1-score'], ascending=False)\n",
    "    return df_classification_report"
   ]
  },
  {
   "cell_type": "code",
   "execution_count": 5,
   "metadata": {},
   "outputs": [
    {
     "name": "stdout",
     "output_type": "stream",
     "text": [
      "(1159, 10)\n"
     ]
    }
   ],
   "source": [
    "train = pd.read_csv(\"../csv/train.csv\", na_values='?')\n",
    "test = pd.read_csv(\"../csv/test.csv\", na_values='?')\n",
    "\n",
    "train = train[columns].copy()\n",
    "test = test[columns_test].copy()\n",
    "print(test.shape)"
   ]
  },
  {
   "cell_type": "code",
   "execution_count": 6,
   "metadata": {},
   "outputs": [
    {
     "data": {
      "image/png": "[encoded data removed]",
      "text/plain": [
       "<Figure size 432x288 with 1 Axes>"
      ]
     },
     "metadata": {
      "needs_background": "light"
     },
     "output_type": "display_data"
    },
    {
     "name": "stdout",
     "output_type": "stream",
     "text": [
      "Class: 3, ocurrences: 2211 -> 45.88088815106869%\n",
      "Class: 4, ocurrences: 978 -> 20.29466694334924%\n",
      "Class: 5, ocurrences: 759 -> 15.750155633948951%\n",
      "Class: 2, ocurrences: 602 -> 12.492218302552397%\n",
      "Class: 1, ocurrences: 269 -> 5.582070969080722%\n"
     ]
    }
   ],
   "source": [
    "import matplotlib.pyplot as plt\n",
    "\n",
    "plt.hist(train['Precio_cat'])\n",
    "plt.show()\n",
    "\n",
    "classes = train['Precio_cat'].value_counts(ascending=False)\n",
    "total = classes.sum()\n",
    "for i in range(classes.size):\n",
    "    print(\"Class: \"+str(classes.index[i])+\", ocurrences: \"+str(classes.iloc[i])+\" -> \"+str((classes.iloc[i]/total)*100)+\"%\")\n",
    "    "
   ]
  },
  {
   "cell_type": "code",
   "execution_count": 7,
   "metadata": {},
   "outputs": [
    {
     "name": "stdout",
     "output_type": "stream",
     "text": [
      "['id', 'Año', 'Kilometros', 'Combustible', 'Mano', 'Consumo', 'Motor_CC', 'Potencia', 'Asientos', 'Descuento', 'Precio_cat']\n"
     ]
    }
   ],
   "source": [
    "cols = train.columns.tolist()\n",
    "print(cols)"
   ]
  },
  {
   "cell_type": "code",
   "execution_count": 8,
   "metadata": {},
   "outputs": [
    {
     "name": "stdout",
     "output_type": "stream",
     "text": [
      "id\n",
      "[1.000e+00 2.000e+00 3.000e+00 ... 4.817e+03 4.818e+03 4.819e+03]\n",
      "Año\n",
      "[2012. 2016. 2013. 2017. 2009. 2014. 2011. 2015. 2008. 2010. 2018. 2006.\n",
      "   nan 2019. 2005. 2007. 2003. 2004. 2001. 1998. 2002. 2000. 1999.]\n",
      "Kilometros\n",
      "[83000.  4800. 26000. ... 60033. 40158. 65743.]\n",
      "Combustible\n",
      "['Diesel' 'Petrol' nan 'CNG' 'LPG' 'Electric']\n",
      "Mano\n",
      "['First' 'Second' 'Third' nan 'Fourth & Above']\n",
      "Consumo\n",
      "['23.4 kmpl' '20.51 kmpl' '25.32 kmpl' '18.5 kmpl' '18.7 kmpl' '17.8 kmpl'\n",
      " '16.8 kmpl' '18.6 kmpl' '25.2 kmpl' '10.91 kmpl' '12.99 kmpl' '17.5 kmpl'\n",
      " '25.8 kmpl' '18.25 kmpl' '10.0 kmpl' '11.5 kmpl' '19.1 kmpl' '14.21 kmpl'\n",
      " '14.16 kmpl' '17.43 kmpl' '18.0 kmpl' '15.7 kmpl' '16.0 kmpl'\n",
      " '21.43 kmpl' '21.64 kmpl' '20.73 kmpl' '14.0 kmpl' '17.9 kmpl'\n",
      " '28.4 kmpl' '15.96 kmpl' nan '23.65 kmpl' '20.36 kmpl' '21.9 kmpl'\n",
      " '22.95 kmpl' '23.59 kmpl' '17.57 kmpl' '21.27 kmpl' '17.3 kmpl'\n",
      " '22.32 kmpl' '18.9 kmpl' '24.7 kmpl' '24.0 kmpl' '11.0 kmpl' '13.0 kmpl'\n",
      " '16.47 kmpl' '17.21 kmpl' '13.6 kmpl' '26.59 kmpl' '14.74 kmpl'\n",
      " '23.84 kmpl' '14.53 kmpl' '21.5 kmpl' '11.8 kmpl' '15.73 kmpl'\n",
      " '16.12 kmpl' '17.11 kmpl' '20.45 kmpl' '17.1 kmpl' '22.74 kmpl'\n",
      " '13.7 kmpl' '21.76 kmpl' '14.42 kmpl' '15.1 kmpl' '24.07 kmpl'\n",
      " '21.66 kmpl' '22.77 kmpl' '14.6 kmpl' '11.7 kmpl' '20.85 kmpl'\n",
      " '15.4 kmpl' '19.81 kmpl' '19.27 kmpl' '17.0 kmpl' '18.88 kmpl'\n",
      " '20.0 kmpl' '12.05 kmpl' '20.86 kmpl' '12.07 kmpl' '18.48 kmpl'\n",
      " '16.1 kmpl' '15.87 kmpl' '17.01 kmpl' '20.77 kmpl' '19.3 kmpl'\n",
      " '16.02 kmpl' '19.7 kmpl' '16.6 kmpl' '19.4 kmpl' '19.67 kmpl'\n",
      " '12.55 kmpl' '22.9 kmpl' '24.4 kmpl' '11.1 kmpl' '15.97 kmpl' '27.3 kmpl'\n",
      " '19.87 kmpl' '14.84 kmpl' '12.8 kmpl' '20.3 kmpl' '13.5 kmpl' '14.3 kmpl'\n",
      " '0.0 kmpl' '17.45 kmpl' '12.7 kmpl' '22.3 kmpl' '13.93 kmpl' '19.6 kmpl'\n",
      " '24.3 kmpl' '15.04 kmpl' '13.1 kmpl' '25.01 kmpl' '16.73 kmpl'\n",
      " '15.3 kmpl' '17.92 kmpl' '21.1 kmpl' '10.5 kmpl' '20.65 kmpl'\n",
      " '11.72 kmpl' '22.7 kmpl' '16.07 kmpl' '19.16 kmpl' '11.33 kmpl'\n",
      " '14.8 kmpl' '17.4 kmpl' '18.56 kmpl' '18.12 kmpl' '15.6 kmpl' '16.5 kmpl'\n",
      " '26.6 kmpl' '27.62 kmpl' '13.68 kmpl' '23.5 kmpl' '28.09 kmpl'\n",
      " '17.68 kmpl' '22.71 kmpl' '23.9 kmpl' '21.14 kmpl' '18.33 kmpl'\n",
      " '16.55 kmpl' '15.5 kmpl' '23.8 kmpl' '12.9 kmpl' '19.08 kmpl'\n",
      " '15.64 kmpl' '20.54 kmpl' '11.3 kmpl' '20.14 kmpl' '22.54 kmpl'\n",
      " '15.26 kmpl' '12.4 kmpl' '23.2 kmpl' '18.2 kmpl' '15.29 kmpl' '8.0 kmpl'\n",
      " '24.5 kmpl' '16.2 kmpl' '13.33 kmpl' '12.6 kmpl' '23.1 kmpl' '13.2 kmpl'\n",
      " '16.36 kmpl' '14.07 kmpl' '14.24 kmpl' '20.37 kmpl' '18.8 kmpl'\n",
      " '16.09 kmpl' '16.93 kmpl' '11.36 kmpl' '17.05 kmpl' '18.53 kmpl'\n",
      " '18.16 kmpl' '22.0 kmpl' '9.43 kmpl' '21.4 kmpl' '33.54 kmpl'\n",
      " '24.52 kmpl' '27.39 kmpl' '22.5 kmpl' '13.49 kmpl' '11.49 kmpl'\n",
      " '22.07 kmpl' '23.08 kmpl' '15.0 kmpl' '16.95 kmpl' '9.0 kmpl'\n",
      " '19.01 kmpl' '18.06 kmpl' '21.7 kmpl' '26.0 kmpl' '11.2 kmpl' '25.4 kmpl'\n",
      " '14.28 kmpl' '12.3 kmpl' '12.62 kmpl' '15.06 kmpl' '15.68 kmpl'\n",
      " '25.44 kmpl' '14.4 kmpl' '13.4 kmpl' '16.78 kmpl' '11.74 kmpl'\n",
      " '13.22 kmpl' '20.5 kmpl' '20.92 kmpl' '19.5 kmpl' '10.9 kmpl' '25.0 kmpl'\n",
      " '14.95 kmpl' '25.47 kmpl' '12.97 kmpl' '10.4 kmpl' '21.12 kmpl'\n",
      " '17.85 kmpl' '19.49 kmpl' '12.19 kmpl' '15.8 kmpl' '10.93 kmpl'\n",
      " '17.72 kmpl' '16.3 kmpl' '11.57 kmpl' '19.12 kmpl' '14.67 kmpl'\n",
      " '15.17 kmpl' '21.79 kmpl' '16.9 kmpl' '19.15 kmpl' '21.0 kmpl'\n",
      " '22.69 kmpl' '20.4 kmpl' '15.9 kmpl' '10.1 kmpl' '20.38 kmpl' '17.6 kmpl'\n",
      " '14.57 kmpl' '14.02 kmpl' '13.06 kmpl' '9.8 kmpl' '17.71 kmpl'\n",
      " '22.8 kmpl' '13.14 kmpl' '11.79 kmpl' '16.25 kmpl' '21.21 kmpl'\n",
      " '14.47 kmpl' '20.46 kmpl' '24.2 kmpl' '13.24 kmpl' '12.39 kmpl'\n",
      " '26.21 kmpl' '14.1 kmpl' '23.0 kmpl' '33.44 kmpl' '17.19 kmpl'\n",
      " '18.3 kmpl' '12.0 kmpl' '13.73 kmpl' '11.25 kmpl' '25.1 kmpl'\n",
      " '18.49 kmpl' '20.89 kmpl' '10.37 kmpl' '20.34 kmpl' '16.82 kmpl'\n",
      " '11.4 kmpl' '12.35 kmpl' '18.15 kmpl' '14.94 kmpl' '27.4 kmpl'\n",
      " '19.0 kmpl' '10.2 kmpl' '26.1 kmpl' '17.97 kmpl' '19.72 kmpl'\n",
      " '10.13 kmpl' '25.17 kmpl' '12.81 kmpl' '32.26 kmpl' '26.2 kmpl'\n",
      " '13.17 kmpl' '19.44 kmpl' '16.77 kmpl' '19.2 kmpl' '21.38 kmpl'\n",
      " '21.72 kmpl' '14.66 kmpl' '11.18 kmpl' '19.34 kmpl' '19.64 kmpl'\n",
      " '15.2 kmpl' '19.33 kmpl' '18.4 kmpl' '19.83 kmpl' '31.79 kmpl'\n",
      " '14.7 kmpl' '16.38 kmpl' '17.54 kmpl' '17.84 kmpl' '11.05 kmpl'\n",
      " '13.01 kmpl' '16.4 kmpl' '22.1 kmpl' '16.51 kmpl' '25.83 kmpl'\n",
      " '23.03 kmpl' '10.8 kmpl' '11.9 kmpl' '18.1 kmpl' '13.45 kmpl'\n",
      " '12.37 kmpl' '20.63 kmpl' '9.52 kmpl' '8.6 kmpl' '10.6 kmpl' '18.59 kmpl'\n",
      " '16.46 kmpl' '17.2 kmpl' '21.02 kmpl' '18.19 kmpl' '9.7 kmpl'\n",
      " '16.52 kmpl' '20.68 kmpl' '13.58 kmpl' '17.7 kmpl' '22.48 kmpl'\n",
      " '20.64 kmpl' '21.19 kmpl' '16.98 kmpl' '14.75 kmpl' '24.8 kmpl'\n",
      " '9.9 kmpl' '21.56 kmpl' '17.67 kmpl' '7.94 kmpl' '12.83 kmpl'\n",
      " '18.78 kmpl' '15.15 kmpl' '16.7 kmpl' '14.69 kmpl' '18.44 kmpl'\n",
      " '15.63 kmpl' '13.9 kmpl' '13.53 kmpl' '6.4 kmpl' '18.86 kmpl'\n",
      " '11.68 kmpl' '23.01 kmpl' '16.05 kmpl' '12.85 kmpl' '18.69 kmpl'\n",
      " '19.59 kmpl' '11.56 kmpl' '15.11 kmpl' '21.03 kmpl' '20.7 kmpl'\n",
      " '26.3 kmpl' '14.49 kmpl' '23.3 kmpl' '12.98 kmpl' '8.3 kmpl' '16.96 kmpl'\n",
      " '8.7 kmpl' '27.28 kmpl' '17.09 kmpl' '17.16 kmpl' '9.5 kmpl' '27.03 kmpl'\n",
      " '13.8 kmpl' '9.3 kmpl' '24.6 kmpl' '19.98 kmpl' '19.71 kmpl' '7.5 kmpl'\n",
      " '25.6 kmpl' '14.9 kmpl' '13.44 kmpl' '21.13 kmpl' '17.44 kmpl'\n",
      " '12.65 kmpl' '21.8 kmpl' '14.81 kmpl' '8.2 kmpl' '18.23 kmpl'\n",
      " '15.85 kmpl' '8.1 kmpl' '14.39 kmpl' '18.51 kmpl' '11.78 kmpl'\n",
      " '12.5 kmpl' '20.58 kmpl' '26.8 kmpl' '12.63 kmpl' '19.09 kmpl'\n",
      " '19.69 kmpl' '14.2 kmpl' '12.51 kmpl' '26.83 kmpl' '15.74 kmpl'\n",
      " '21.2 kmpl' '8.5 kmpl' '14.59 kmpl' '12.1 kmpl' '14.62 kmpl' '24.04 kmpl'\n",
      " '25.5 kmpl' '18.18 kmpl']\n",
      "Motor_CC\n",
      "['1248 CC' '998 CC' '1198 CC' '1197 CC' '1199 CC' '1497 CC' '3198 CC'\n",
      " '2494 CC' '1298 CC' '1498 CC' '1968 CC' '2496 CC' '2982 CC' '2143 CC'\n",
      " '1396 CC' '1390 CC' '2179 CC' '1364 CC' '1461 CC' '1373 CC' '796 CC'\n",
      " '2523 CC' '1193 CC' nan '1120 CC' '2987 CC' '1591 CC' '1493 CC' '2993 CC'\n",
      " '1794 CC' '2967 CC' '1798 CC' '1995 CC' '1368 CC' '1796 CC' '1590 CC'\n",
      " '1086 CC' '1582 CC' '1998 CC' '2354 CC' '1799 CC' '1598 CC' '999 CC'\n",
      " '2609 CC' '1991 CC' '2499 CC' '1341 CC' '995 CC' '2835 CC' '2199 CC'\n",
      " '1196 CC' '4134 CC' '2148 CC' '1896 CC' '793 CC' '2393 CC' '624 CC'\n",
      " '1061 CC' '2755 CC' '2200 CC' '814 CC' '2360 CC' '4806 CC' '1997 CC'\n",
      " '1599 CC' '2995 CC' '1950 CC' '1495 CC' '1399 CC' '1596 CC' '1978 CC'\n",
      " '1999 CC' '4367 CC' '1984 CC' '1595 CC' '72 CC' '2400 CC' '1186 CC'\n",
      " '2198 CC' '2498 CC' '936 CC' '1496 CC' '993 CC' '2497 CC' '1047 CC'\n",
      " '2489 CC' '1405 CC' '1956 CC' '3498 CC' '1499 CC' '1388 CC' '1586 CC'\n",
      " '2997 CC' '1781 CC' '3436 CC' '2694 CC' '2979 CC' '2953 CC' '2698 CC'\n",
      " '799 CC' '2092 CC' '2956 CC' '2446 CC' '2696 CC' '1395 CC' '2894 CC'\n",
      " '1172 CC' '2359 CC' '5998 CC' '2996 CC' '1948 CC' '3597 CC' '1194 CC'\n",
      " '1462 CC' '1150 CC' '2773 CC' '5204 CC' '1985 CC' '3200 CC' '4951 CC'\n",
      " '2487 CC' '1969 CC' '1468 CC' '2771 CC' '3197 CC' '2147 CC' '1299 CC'\n",
      " '2477 CC' '2925 CC' '5461 CC' '2706 CC' '1242 CC' '2999 CC' '5000 CC'\n",
      " '1597 CC' '1422 CC' '2362 CC' '970 CC' '2112 CC']\n",
      "Potencia\n",
      "['74 bhp' '67.04 bhp' '77 bhp' '80 bhp' '88.7 bhp' '75 bhp' '118 bhp'\n",
      " '81.83 bhp' '197 bhp' '100.6 bhp' '85.8 bhp' '98.6 bhp' '187.74 bhp'\n",
      " '157.7 bhp' '171 bhp' '203 bhp' '174.3 bhp' '76.8 bhp' '105.5 bhp'\n",
      " '117.3 bhp' '140 bhp' '87.2 bhp' '84.8 bhp' '91.1 bhp' '35 bhp' '136 bhp'\n",
      " '73.75 bhp' '62.1 bhp' '88.5 bhp' '78.9 bhp' '90 bhp' '73.74 bhp' nan\n",
      " '80.46 bhp' '88.76 bhp' '126.32 bhp' '81.86 bhp' '70 bhp' '198.5 bhp'\n",
      " '67.1 bhp' '121.3 bhp' '100 bhp' '63 bhp' '270.9 bhp' '84 bhp'\n",
      " '138.1 bhp' '81.80 bhp' '82 bhp' '180 bhp' '174.33 bhp' '245 bhp'\n",
      " '116.3 bhp' '83.8 bhp' '121.4 bhp' '47.3 bhp' '190 bhp' '67.05 bhp'\n",
      " '147.6 bhp' '83.83 bhp' '98.59 bhp' '112 bhp' '178 bhp' '83.14 bhp'\n",
      " '94 bhp' '68.05 bhp' '170 bhp' '184 bhp' '126.3 bhp' '108.5 bhp'\n",
      " '154 bhp' '73.9 bhp' '241.4 bhp' '88.2 bhp' '308.43 bhp' '93.7 bhp'\n",
      " '46.3 bhp' '86.8 bhp' '126.2 bhp' '168.5 bhp' '71 bhp' '142 bhp'\n",
      " '258 bhp' '167.62 bhp' '102 bhp' '130 bhp' '103.52 bhp' '116.6 bhp'\n",
      " '181.03 bhp' '108.45 bhp' '235 bhp' '120 bhp' '197.2 bhp' '103.6 bhp'\n",
      " '141 bhp' '89.75 bhp' '169 bhp' '218 bhp' '61 bhp' '62 bhp' '107.2 bhp'\n",
      " '194.3 bhp' '73 bhp' '181 bhp' '158.2 bhp' '89.84 bhp' '82.85 bhp'\n",
      " '335.2 bhp' '86.7 bhp' '130.2 bhp' '262.6 bhp' '201.15 bhp' '85.80 bhp'\n",
      " '106 bhp' '58.16 bhp' '47 bhp' '147.8 bhp' '86.79 bhp' '37.48 bhp'\n",
      " '167.7 bhp' '147.51 bhp' '160 bhp' '126.24 bhp' '64 bhp' '174.5 bhp'\n",
      " '139.01 bhp' '55.2 bhp' '157.75 bhp' '88.8 bhp' '88.73 bhp' '132 bhp'\n",
      " '73.94 bhp' '83 bhp' '183 bhp' '82.4 bhp' '57.5 bhp' '394.3 bhp'\n",
      " '153.86 bhp' '105 bhp' '103.2 bhp' '340 bhp' '191.34 bhp' '187.7 bhp'\n",
      " '98.82 bhp' '101 bhp' '83.1 bhp' '103.5 bhp' '171.5 bhp' '237.4 bhp'\n",
      " '138.03 bhp' '68 bhp' '64.08 bhp' '335.3 bhp' '88 bhp' '63.1 bhp'\n",
      " '120.7 bhp' '67 bhp' '41 bhp' '215 bhp' '73.97 bhp' '185 bhp' '158 bhp'\n",
      " '246.7 bhp' '177 bhp' '177.6 bhp' '194 bhp' '57.6 bhp' '65 bhp'\n",
      " '65.3 bhp' '125 bhp' '186 bhp' '60 bhp' '165 bhp' '69 bhp' '265 bhp'\n",
      " '88.50 bhp' '163.5 bhp' '300 bhp' '236 bhp' '86.76 bhp' '241 bhp'\n",
      " '272 bhp' '108.49 bhp' '254.79 bhp' '79.4 bhp' '110.4 bhp' '141.1 bhp'\n",
      " '123.24 bhp' '177.46 bhp' '56.3 bhp' '110 bhp' '254.8 bhp' '75.94 bhp'\n",
      " '64.1 bhp' '123.37 bhp' '152 bhp' '103.3 bhp' '143 bhp' '74.96 bhp'\n",
      " '108.62 bhp' '163.2 bhp' '118.3 bhp' '102.53 bhp' '80.9 bhp' '157.8 bhp'\n",
      " '104.68 bhp' '301.73 bhp' '82.9 bhp' '102.5 bhp' '69.01 bhp' '148 bhp'\n",
      " '210 bhp' '98.96 bhp' '40.3 bhp' '37.5 bhp' '147.9 bhp' '167.6 bhp'\n",
      " '224 bhp' '163.7 bhp' '306 bhp' '189.08 bhp' '138 bhp' '67.06 bhp'\n",
      " '99 bhp' '308 bhp' '99.6 bhp' '179.5 bhp' '127 bhp' '34.2 bhp'\n",
      " '364.9 bhp' '53.3 bhp' '168.7 bhp' '97.7 bhp' '148.31 bhp' '58.2 bhp'\n",
      " '271.23 bhp' '107.3 bhp' '114 bhp' '241.38 bhp' '73.8 bhp' '108.4 bhp'\n",
      " '97.6 bhp' '156 bhp' '76 bhp' '320 bhp' '55 bhp' '140.8 bhp' '203.2 bhp'\n",
      " '58.33 bhp' '138.02 bhp' '85 bhp' '177.5 bhp' '66.1 bhp' '313 bhp'\n",
      " '261.49 bhp' '444 bhp' '282 bhp' '78 bhp' '85.7 bhp' '150 bhp'\n",
      " '198.25 bhp' '91.7 bhp' '552 bhp' '91.72 bhp' '123.7 bhp' '204 bhp'\n",
      " '158.8 bhp' '134 bhp' '94.68 bhp' '201.1 bhp' '66 bhp' '116.4 bhp'\n",
      " '271.72 bhp' '103.25 bhp' '138.08 bhp' '74.9 bhp' '450 bhp' '147.5 bhp'\n",
      " '246.74 bhp' '98.79 bhp' '255 bhp' '240 bhp' '95 bhp' '63.12 bhp'\n",
      " '201 bhp' '200 bhp' '177.01 bhp' '53.64 bhp' '560 bhp' '122 bhp'\n",
      " '163 bhp' '103 bhp' '135.1 bhp' '199.3 bhp' '121.36 bhp' '102.57 bhp'\n",
      " '395 bhp' '113.98 bhp' '115 bhp' '144 bhp' '92.7 bhp' '175.67 bhp'\n",
      " '181.43 bhp' '178.4 bhp' '71.01 bhp' '70.02 bhp' '250 bhp' '207.8 bhp'\n",
      " '224.34 bhp' '382 bhp' '118.6 bhp' '192 bhp' '53.5 bhp' '193.1 bhp'\n",
      " '55.23 bhp' '112.2 bhp' '175.56 bhp' '112.4 bhp' '281.61 bhp' '387.3 bhp'\n",
      " '174.57 bhp' '161.6 bhp' '83.11 bhp' '104 bhp' '66.7 bhp' '333 bhp'\n",
      " '488.1 bhp' '37 bhp' '108.495 bhp' '92 bhp' '503 bhp' '38.4 bhp'\n",
      " '181.04 bhp' '362.07 bhp' '155 bhp' '500 bhp' '93 bhp' '187.4 bhp'\n",
      " '164.7 bhp' '149.92 bhp' '168 bhp' '189 bhp' '91.2 bhp' '261.5 bhp'\n",
      " '110.5 bhp' '82.5 bhp' '231.1 bhp']\n",
      "Asientos\n",
      "[ 5.  6.  7.  8. nan  4. 10.  9.  2.  0.]\n",
      "Descuento\n",
      "[  nan 53.14  8.36 10.32  8.34  6.62  7.45  6.59  5.88  7.17  4.48  8.09\n",
      " 10.52 11.19 15.05  9.12 14.67  7.48  6.23 13.6  10.06  1.02  4.71 79.43\n",
      " 12.68  8.05 23.06 62.11 19.27 34.45  8.26 56.97  9.1  15.01  1.36 86.97\n",
      " 36.69 11.48 10.91 20.8   8.13  7.63  5.58  7.59 10.28  5.04 28.05  7.01\n",
      " 26.55  4.98 10.7  11.05 13.58  8.56 49.14 15.86  5.61  7.36 11.33 12.74\n",
      " 18.45 11.29 11.12  7.39 19.43  8.16 16.06 64.57 13.7  24.26 95.13 55.07\n",
      "  4.69 33.58 43.65  6.96  9.47 47.87  7.87 22.37 70.55 15.29  7.96 10.3\n",
      "  8.99  9.19 11.67  6.   11.66 21.72 15.17 11.15 11.27  9.97 92.5  12.47\n",
      " 10.42 14.72  4.53  4.61  9.56 14.65  6.21  5.95 59.77 18.64 50.4   4.87\n",
      " 47.2  25.52 44.28 23.94 54.43  5.54 11.88  8.54  6.41  9.79 11.39  4.24\n",
      " 21.69 15.68  4.04 69.22  7.46 23.89 12.88 10.97  9.51  7.82  9.55 64.14\n",
      " 19.39 20.74 71.15 11.2   8.73 15.34  4.66  8.55 13.49  7.97  8.82 15.72\n",
      " 16.65 48.64 78.76  8.03  9.04 12.53 20.87 11.75 11.28  7.98 12.22 23.25\n",
      "  6.45  5.87  6.32  1.66  5.71 47.16  1.28 64.76 12.02  5.45  8.71 15.57\n",
      "  5.72 21.1   7.13  7.37  9.99  6.42 10.48  4.43 19.37  8.63  4.93 10.15\n",
      "  6.54 21.   79.78 15.36 33.36 19.34  6.82  4.7   5.42 48.18  5.8  11.69\n",
      "  6.29  7.83 69.47 22.66  8.24 11.3  12.14 10.94 14.84 40.73  4.78  1.04\n",
      " 16.04 91.38 15.94  6.14  7.52 11.74 11.11 21.36  6.33  8.1   6.71 52.77\n",
      " 11.77  7.15 53.72  4.74  8.28 55.61  6.74 11.89  5.67 14.32 32.45 42.89\n",
      "  7.    2.3   6.67  8.68 23.37  8.8  22.74 21.38 63.71 52.46 11.16 26.95\n",
      "  5.9  17.7  10.63 11.37 37.38  7.88 10.34 10.65  4.05 67.87 13.4  10.04\n",
      "  8.84 27.    8.85  6.63 23.14  5.56  9.46 19.18 12.51 14.1   4.37 11.26\n",
      " 10.89  5.29  7.3   3.95  8.12  8.23 10.1   4.09 83.92 26.56  9.26 15.55\n",
      "  3.98 35.    8.61 11.44 50.97  5.12 40.62  5.44 49.49  6.51  4.9  11.47\n",
      " 12.27 13.23 24.02 12.79  5.36  6.56 54.7  12.12  5.51  7.54  4.59  7.56\n",
      " 15.59  6.94 15.02 71.82 12.57  5.3   6.68 10.81 14.23 10.57 14.2  45.67\n",
      " 13.59 44.59 24.63  9.62  9.09 12.56  6.05 20.46  1.13 22.87 70.43 43.81\n",
      " 11.63 12.67 43.07  7.55  7.43 14.07 10.83  9.89 13.33  7.94 10.25 11.01\n",
      "  7.67  8.78 99.92 52.26 14.22 39.57 11.85  1.39  9.78  5.57 16.95 12.34\n",
      " 41.94 42.48 34.89 12.33 33.91 16.67  7.69 58.67  4.55  8.44 24.01 33.51\n",
      "  1.   67.1  22.46 23.19  3.96 22.43  5.92 69.59 67.67 26.45  8.18 38.72\n",
      "  1.71 37.9   4.33  8.38  8.75 10.41  8.58 44.8  36.94 20.97 13.72 33.68\n",
      " 10.17  1.4   6.07 19.21  6.83 87.57  7.91 11.96 69.37  4.36 45.36  6.4\n",
      "  5.68 37.17 36.15  7.85  9.96 14.11 12.   20.48  5.35 11.71 11.58 53.68\n",
      "  9.83 43.31  6.78  4.8  25.4  22.95  3.91 34.6  25.27 16.84 15.38 13.74\n",
      "  6.43 12.9  53.41 32.01 62.07 48.79 39.27 95.04 10.13  8.57  7.33 16.4\n",
      " 50.26 60.59  8.17 18.35  9.58 11.81  6.99 11.06 10.99 72.64 92.79  8.69\n",
      " 21.77 23.64 13.76  6.8   9.72  9.14 30.19  7.7  22.86  9.93 15.45 24.82\n",
      " 11.56  8.93 11.   25.54 42.12  7.65 21.33  5.13  4.29 19.86  7.35 15.06\n",
      " 15.14  4.45 19.91  6.08 11.98]\n",
      "Precio_cat\n",
      "[3 2 4 5 1]\n"
     ]
    }
   ],
   "source": [
    "cols = train.columns.tolist()\n",
    "for i in cols:\n",
    "    print(i)\n",
    "    print(train[i].unique())"
   ]
  },
  {
   "cell_type": "code",
   "execution_count": 9,
   "metadata": {
    "scrolled": false
   },
   "outputs": [
    {
     "data": {
      "text/html": [
       "<div>\n",
       "<style scoped>\n",
       "    .dataframe tbody tr th:only-of-type {\n",
       "        vertical-align: middle;\n",
       "    }\n",
       "\n",
       "    .dataframe tbody tr th {\n",
       "        vertical-align: top;\n",
       "    }\n",
       "\n",
       "    .dataframe thead th {\n",
       "        text-align: right;\n",
       "    }\n",
       "</style>\n",
       "<table border=\"1\" class=\"dataframe\">\n",
       "  <thead>\n",
       "    <tr style=\"text-align: right;\">\n",
       "      <th></th>\n",
       "      <th>id</th>\n",
       "      <th>Año</th>\n",
       "      <th>Kilometros</th>\n",
       "      <th>Combustible</th>\n",
       "      <th>Mano</th>\n",
       "      <th>Consumo</th>\n",
       "      <th>Motor_CC</th>\n",
       "      <th>Potencia</th>\n",
       "      <th>Asientos</th>\n",
       "      <th>Descuento</th>\n",
       "      <th>Precio_cat</th>\n",
       "    </tr>\n",
       "  </thead>\n",
       "  <tbody>\n",
       "    <tr>\n",
       "      <th>0</th>\n",
       "      <td>1.0</td>\n",
       "      <td>2012.0</td>\n",
       "      <td>83000.0</td>\n",
       "      <td>Diesel</td>\n",
       "      <td>First</td>\n",
       "      <td>23.4 kmpl</td>\n",
       "      <td>1248 CC</td>\n",
       "      <td>74 bhp</td>\n",
       "      <td>5.0</td>\n",
       "      <td>NaN</td>\n",
       "      <td>3</td>\n",
       "    </tr>\n",
       "    <tr>\n",
       "      <th>1</th>\n",
       "      <td>2.0</td>\n",
       "      <td>2016.0</td>\n",
       "      <td>4800.0</td>\n",
       "      <td>Petrol</td>\n",
       "      <td>First</td>\n",
       "      <td>20.51 kmpl</td>\n",
       "      <td>998 CC</td>\n",
       "      <td>67.04 bhp</td>\n",
       "      <td>5.0</td>\n",
       "      <td>NaN</td>\n",
       "      <td>3</td>\n",
       "    </tr>\n",
       "    <tr>\n",
       "      <th>2</th>\n",
       "      <td>3.0</td>\n",
       "      <td>2016.0</td>\n",
       "      <td>26000.0</td>\n",
       "      <td>Diesel</td>\n",
       "      <td>First</td>\n",
       "      <td>25.32 kmpl</td>\n",
       "      <td>1198 CC</td>\n",
       "      <td>77 bhp</td>\n",
       "      <td>6.0</td>\n",
       "      <td>NaN</td>\n",
       "      <td>3</td>\n",
       "    </tr>\n",
       "    <tr>\n",
       "      <th>3</th>\n",
       "      <td>4.0</td>\n",
       "      <td>2013.0</td>\n",
       "      <td>56127.0</td>\n",
       "      <td>Petrol</td>\n",
       "      <td>First</td>\n",
       "      <td>18.5 kmpl</td>\n",
       "      <td>1197 CC</td>\n",
       "      <td>80 bhp</td>\n",
       "      <td>5.0</td>\n",
       "      <td>NaN</td>\n",
       "      <td>3</td>\n",
       "    </tr>\n",
       "    <tr>\n",
       "      <th>4</th>\n",
       "      <td>5.0</td>\n",
       "      <td>2017.0</td>\n",
       "      <td>41981.0</td>\n",
       "      <td>Petrol</td>\n",
       "      <td>First</td>\n",
       "      <td>18.7 kmpl</td>\n",
       "      <td>1199 CC</td>\n",
       "      <td>88.7 bhp</td>\n",
       "      <td>5.0</td>\n",
       "      <td>NaN</td>\n",
       "      <td>3</td>\n",
       "    </tr>\n",
       "  </tbody>\n",
       "</table>\n",
       "</div>"
      ],
      "text/plain": [
       "    id     Año  Kilometros Combustible   Mano     Consumo Motor_CC   Potencia  \\\n",
       "0  1.0  2012.0     83000.0      Diesel  First   23.4 kmpl  1248 CC     74 bhp   \n",
       "1  2.0  2016.0      4800.0      Petrol  First  20.51 kmpl   998 CC  67.04 bhp   \n",
       "2  3.0  2016.0     26000.0      Diesel  First  25.32 kmpl  1198 CC     77 bhp   \n",
       "3  4.0  2013.0     56127.0      Petrol  First   18.5 kmpl  1197 CC     80 bhp   \n",
       "4  5.0  2017.0     41981.0      Petrol  First   18.7 kmpl  1199 CC   88.7 bhp   \n",
       "\n",
       "   Asientos  Descuento  Precio_cat  \n",
       "0       5.0        NaN           3  \n",
       "1       5.0        NaN           3  \n",
       "2       6.0        NaN           3  \n",
       "3       5.0        NaN           3  \n",
       "4       5.0        NaN           3  "
      ]
     },
     "execution_count": 9,
     "metadata": {},
     "output_type": "execute_result"
    }
   ],
   "source": [
    "train.head()"
   ]
  },
  {
   "cell_type": "markdown",
   "metadata": {},
   "source": [
    "# Preprocessing data"
   ]
  },
  {
   "cell_type": "markdown",
   "metadata": {},
   "source": [
    "First of all, we get all numbers from string format"
   ]
  },
  {
   "cell_type": "code",
   "execution_count": 10,
   "metadata": {},
   "outputs": [],
   "source": [
    "train['Descuento'] = train['Descuento'].fillna(0)\n",
    "test['Descuento'] = test['Descuento'].fillna(0)\n",
    "\n",
    "train['Combustible'].fillna(value=train['Combustible'].value_counts().index[0],inplace =True)\n",
    "train['Mano'].fillna(value=train['Mano'].value_counts().index[0],inplace =True)"
   ]
  },
  {
   "cell_type": "code",
   "execution_count": 11,
   "metadata": {},
   "outputs": [
    {
     "data": {
      "text/plain": [
       "Diesel      2618\n",
       "Petrol      2151\n",
       "CNG           42\n",
       "LPG            7\n",
       "Electric       1\n",
       "Name: Combustible, dtype: int64"
      ]
     },
     "execution_count": 11,
     "metadata": {},
     "output_type": "execute_result"
    }
   ],
   "source": [
    "train['Combustible'].value_counts(dropna=False)"
   ]
  },
  {
   "cell_type": "code",
   "execution_count": 12,
   "metadata": {
    "scrolled": true
   },
   "outputs": [
    {
     "data": {
      "text/html": [
       "<div>\n",
       "<style scoped>\n",
       "    .dataframe tbody tr th:only-of-type {\n",
       "        vertical-align: middle;\n",
       "    }\n",
       "\n",
       "    .dataframe tbody tr th {\n",
       "        vertical-align: top;\n",
       "    }\n",
       "\n",
       "    .dataframe thead th {\n",
       "        text-align: right;\n",
       "    }\n",
       "</style>\n",
       "<table border=\"1\" class=\"dataframe\">\n",
       "  <thead>\n",
       "    <tr style=\"text-align: right;\">\n",
       "      <th></th>\n",
       "      <th>id</th>\n",
       "      <th>Año</th>\n",
       "      <th>Kilometros</th>\n",
       "      <th>Combustible</th>\n",
       "      <th>Mano</th>\n",
       "      <th>Consumo</th>\n",
       "      <th>Motor_CC</th>\n",
       "      <th>Potencia</th>\n",
       "      <th>Asientos</th>\n",
       "      <th>Descuento</th>\n",
       "      <th>Precio_cat</th>\n",
       "    </tr>\n",
       "  </thead>\n",
       "  <tbody>\n",
       "    <tr>\n",
       "      <th>0</th>\n",
       "      <td>1.0</td>\n",
       "      <td>2012.0</td>\n",
       "      <td>83000.0</td>\n",
       "      <td>Diesel</td>\n",
       "      <td>First</td>\n",
       "      <td>23.40</td>\n",
       "      <td>1248.0</td>\n",
       "      <td>74.0</td>\n",
       "      <td>5.0</td>\n",
       "      <td>0.0</td>\n",
       "      <td>3</td>\n",
       "    </tr>\n",
       "    <tr>\n",
       "      <th>1</th>\n",
       "      <td>2.0</td>\n",
       "      <td>2016.0</td>\n",
       "      <td>4800.0</td>\n",
       "      <td>Petrol</td>\n",
       "      <td>First</td>\n",
       "      <td>20.51</td>\n",
       "      <td>998.0</td>\n",
       "      <td>67.0</td>\n",
       "      <td>5.0</td>\n",
       "      <td>0.0</td>\n",
       "      <td>3</td>\n",
       "    </tr>\n",
       "    <tr>\n",
       "      <th>2</th>\n",
       "      <td>3.0</td>\n",
       "      <td>2016.0</td>\n",
       "      <td>26000.0</td>\n",
       "      <td>Diesel</td>\n",
       "      <td>First</td>\n",
       "      <td>25.32</td>\n",
       "      <td>1198.0</td>\n",
       "      <td>77.0</td>\n",
       "      <td>6.0</td>\n",
       "      <td>0.0</td>\n",
       "      <td>3</td>\n",
       "    </tr>\n",
       "    <tr>\n",
       "      <th>3</th>\n",
       "      <td>4.0</td>\n",
       "      <td>2013.0</td>\n",
       "      <td>56127.0</td>\n",
       "      <td>Petrol</td>\n",
       "      <td>First</td>\n",
       "      <td>18.50</td>\n",
       "      <td>1197.0</td>\n",
       "      <td>80.0</td>\n",
       "      <td>5.0</td>\n",
       "      <td>0.0</td>\n",
       "      <td>3</td>\n",
       "    </tr>\n",
       "    <tr>\n",
       "      <th>4</th>\n",
       "      <td>5.0</td>\n",
       "      <td>2017.0</td>\n",
       "      <td>41981.0</td>\n",
       "      <td>Petrol</td>\n",
       "      <td>First</td>\n",
       "      <td>18.70</td>\n",
       "      <td>1199.0</td>\n",
       "      <td>88.0</td>\n",
       "      <td>5.0</td>\n",
       "      <td>0.0</td>\n",
       "      <td>3</td>\n",
       "    </tr>\n",
       "  </tbody>\n",
       "</table>\n",
       "</div>"
      ],
      "text/plain": [
       "    id     Año  Kilometros Combustible   Mano  Consumo  Motor_CC  Potencia  \\\n",
       "0  1.0  2012.0     83000.0      Diesel  First    23.40    1248.0      74.0   \n",
       "1  2.0  2016.0      4800.0      Petrol  First    20.51     998.0      67.0   \n",
       "2  3.0  2016.0     26000.0      Diesel  First    25.32    1198.0      77.0   \n",
       "3  4.0  2013.0     56127.0      Petrol  First    18.50    1197.0      80.0   \n",
       "4  5.0  2017.0     41981.0      Petrol  First    18.70    1199.0      88.0   \n",
       "\n",
       "   Asientos  Descuento  Precio_cat  \n",
       "0       5.0        0.0           3  \n",
       "1       5.0        0.0           3  \n",
       "2       6.0        0.0           3  \n",
       "3       5.0        0.0           3  \n",
       "4       5.0        0.0           3  "
      ]
     },
     "execution_count": 12,
     "metadata": {},
     "output_type": "execute_result"
    }
   ],
   "source": [
    "import re\n",
    "import math\n",
    "\n",
    "for index, row in train.iterrows():\n",
    "    #print(row.Consumo)\n",
    "    consumo = row.Consumo\n",
    "    motor = row.Motor_CC\n",
    "    potencia = row.Potencia\n",
    "    \n",
    "    if type(consumo) == str:\n",
    "        train.loc[index,'Consumo'] = float(re.findall(r\"^\\d+\\.\\d+\", consumo)[0])\n",
    "    if type(motor) == str:\n",
    "        train.loc[index,'Motor_CC'] = float(re.findall(r\"^\\d+\", motor)[0])\n",
    "    if type(potencia) == str:\n",
    "        train.loc[index,'Potencia'] = float(re.findall(r\"^\\d+\", potencia)[0])\n",
    "        \n",
    "for index, row in test.iterrows():\n",
    "    #print(row.Consumo)\n",
    "    consumo = row.Consumo\n",
    "    motor = row.Motor_CC\n",
    "    potencia = row.Potencia\n",
    "    \n",
    "    if type(consumo) == str:\n",
    "        test.loc[index,'Consumo'] = float(re.findall(r\"^\\d+\\.\\d+\", consumo)[0])\n",
    "    if type(motor) == str:\n",
    "        test.loc[index,'Motor_CC'] = float(re.findall(r\"^\\d+\", motor)[0])\n",
    "    if type(potencia) == str:\n",
    "        test.loc[index,'Potencia'] = float(re.findall(r\"^\\d+\", potencia)[0])\n",
    "        \n",
    "train['Consumo'] = train['Consumo'].astype(float)\n",
    "train['Motor_CC'] = train['Motor_CC'].astype(float)\n",
    "train['Potencia'] = train['Potencia'].astype(float)\n",
    "\n",
    "test['Consumo'] = test['Consumo'].astype(float)\n",
    "test['Motor_CC'] = test['Motor_CC'].astype(float)\n",
    "test['Potencia'] = test['Potencia'].astype(float)\n",
    "\n",
    "train.head()"
   ]
  },
  {
   "cell_type": "code",
   "execution_count": 13,
   "metadata": {
    "scrolled": true
   },
   "outputs": [],
   "source": [
    "#train.Descuento = train.Descuento.fillna(0)\n",
    "#test.Descuento = test.Descuento.fillna(0)"
   ]
  },
  {
   "cell_type": "code",
   "execution_count": 14,
   "metadata": {},
   "outputs": [],
   "source": [
    "from sklearn import preprocessing\n",
    "le_combustible = preprocessing.LabelEncoder()\n",
    "le_mano = preprocessing.LabelEncoder()\n",
    "\n",
    "data = train.copy()\n",
    "#data_without_nan = data_without_nan.dropna()\n",
    "data['Combustible'] = le_combustible.fit_transform(data['Combustible'])\n",
    "data['Mano'] = le_mano.fit_transform(data['Mano'])\n",
    "#imputer_num = SimpleImputer(missing_values=np.NaN, strategy='mean')\n",
    "#data_without_nan.Año = imputer_num.fit_transform(data_without_nan.Año.values.reshape(-1,1))[:,0]\n",
    "#data_without_nan.Año = imputer_num.fit_transform(data_without_nan.Año.values.reshape(-1,1))[:,0]\n",
    "cols1 = data.select_dtypes([np.number]).columns\n",
    "cols2 = data.select_dtypes(exclude = [np.number]).columns\n",
    "data[cols1] = data[cols1].fillna(data[cols1].mean())\n",
    "data[cols2] = data[cols2].fillna(data[cols2].mode().iloc[0])\n",
    "\n",
    "test['Combustible'] = le_combustible.fit_transform(test['Combustible'])\n",
    "test['Mano'] = le_mano.fit_transform(test['Mano'])"
   ]
  },
  {
   "cell_type": "code",
   "execution_count": 15,
   "metadata": {
    "scrolled": true
   },
   "outputs": [
    {
     "data": {
      "text/html": [
       "<div>\n",
       "<style scoped>\n",
       "    .dataframe tbody tr th:only-of-type {\n",
       "        vertical-align: middle;\n",
       "    }\n",
       "\n",
       "    .dataframe tbody tr th {\n",
       "        vertical-align: top;\n",
       "    }\n",
       "\n",
       "    .dataframe thead th {\n",
       "        text-align: right;\n",
       "    }\n",
       "</style>\n",
       "<table border=\"1\" class=\"dataframe\">\n",
       "  <thead>\n",
       "    <tr style=\"text-align: right;\">\n",
       "      <th></th>\n",
       "      <th>id</th>\n",
       "      <th>Año</th>\n",
       "      <th>Kilometros</th>\n",
       "      <th>Combustible</th>\n",
       "      <th>Mano</th>\n",
       "      <th>Consumo</th>\n",
       "      <th>Motor_CC</th>\n",
       "      <th>Potencia</th>\n",
       "      <th>Asientos</th>\n",
       "      <th>Descuento</th>\n",
       "      <th>Precio_cat</th>\n",
       "    </tr>\n",
       "  </thead>\n",
       "  <tbody>\n",
       "    <tr>\n",
       "      <th>0</th>\n",
       "      <td>1.0</td>\n",
       "      <td>2012.0</td>\n",
       "      <td>83000.0</td>\n",
       "      <td>1</td>\n",
       "      <td>0</td>\n",
       "      <td>23.40</td>\n",
       "      <td>1248.0</td>\n",
       "      <td>74.0</td>\n",
       "      <td>5.0</td>\n",
       "      <td>0.0</td>\n",
       "      <td>3</td>\n",
       "    </tr>\n",
       "    <tr>\n",
       "      <th>1</th>\n",
       "      <td>2.0</td>\n",
       "      <td>2016.0</td>\n",
       "      <td>4800.0</td>\n",
       "      <td>4</td>\n",
       "      <td>0</td>\n",
       "      <td>20.51</td>\n",
       "      <td>998.0</td>\n",
       "      <td>67.0</td>\n",
       "      <td>5.0</td>\n",
       "      <td>0.0</td>\n",
       "      <td>3</td>\n",
       "    </tr>\n",
       "    <tr>\n",
       "      <th>2</th>\n",
       "      <td>3.0</td>\n",
       "      <td>2016.0</td>\n",
       "      <td>26000.0</td>\n",
       "      <td>1</td>\n",
       "      <td>0</td>\n",
       "      <td>25.32</td>\n",
       "      <td>1198.0</td>\n",
       "      <td>77.0</td>\n",
       "      <td>6.0</td>\n",
       "      <td>0.0</td>\n",
       "      <td>3</td>\n",
       "    </tr>\n",
       "    <tr>\n",
       "      <th>3</th>\n",
       "      <td>4.0</td>\n",
       "      <td>2013.0</td>\n",
       "      <td>56127.0</td>\n",
       "      <td>4</td>\n",
       "      <td>0</td>\n",
       "      <td>18.50</td>\n",
       "      <td>1197.0</td>\n",
       "      <td>80.0</td>\n",
       "      <td>5.0</td>\n",
       "      <td>0.0</td>\n",
       "      <td>3</td>\n",
       "    </tr>\n",
       "    <tr>\n",
       "      <th>4</th>\n",
       "      <td>5.0</td>\n",
       "      <td>2017.0</td>\n",
       "      <td>41981.0</td>\n",
       "      <td>4</td>\n",
       "      <td>0</td>\n",
       "      <td>18.70</td>\n",
       "      <td>1199.0</td>\n",
       "      <td>88.0</td>\n",
       "      <td>5.0</td>\n",
       "      <td>0.0</td>\n",
       "      <td>3</td>\n",
       "    </tr>\n",
       "  </tbody>\n",
       "</table>\n",
       "</div>"
      ],
      "text/plain": [
       "    id     Año  Kilometros  Combustible  Mano  Consumo  Motor_CC  Potencia  \\\n",
       "0  1.0  2012.0     83000.0            1     0    23.40    1248.0      74.0   \n",
       "1  2.0  2016.0      4800.0            4     0    20.51     998.0      67.0   \n",
       "2  3.0  2016.0     26000.0            1     0    25.32    1198.0      77.0   \n",
       "3  4.0  2013.0     56127.0            4     0    18.50    1197.0      80.0   \n",
       "4  5.0  2017.0     41981.0            4     0    18.70    1199.0      88.0   \n",
       "\n",
       "   Asientos  Descuento  Precio_cat  \n",
       "0       5.0        0.0           3  \n",
       "1       5.0        0.0           3  \n",
       "2       6.0        0.0           3  \n",
       "3       5.0        0.0           3  \n",
       "4       5.0        0.0           3  "
      ]
     },
     "execution_count": 15,
     "metadata": {},
     "output_type": "execute_result"
    }
   ],
   "source": [
    "data.head()"
   ]
  },
  {
   "cell_type": "code",
   "execution_count": 16,
   "metadata": {},
   "outputs": [
    {
     "name": "stdout",
     "output_type": "stream",
     "text": [
      "id\n",
      "[1.000e+00 2.000e+00 3.000e+00 ... 4.817e+03 4.818e+03 4.819e+03]\n",
      "Año\n",
      "[2012.         2016.         2013.         2017.         2009.\n",
      " 2014.         2011.         2015.         2008.         2010.\n",
      " 2018.         2006.         2013.57109754 2019.         2005.\n",
      " 2007.         2003.         2004.         2001.         1998.\n",
      " 2002.         2000.         1999.        ]\n",
      "Kilometros\n",
      "[83000.  4800. 26000. ... 60033. 40158. 65743.]\n",
      "Combustible\n",
      "[1 4 0 3 2]\n",
      "Mano\n",
      "[0 2 3 1]\n",
      "Consumo\n",
      "[23.4        20.51       25.32       18.5        18.7        17.8\n",
      " 16.8        18.6        25.2        10.91       12.99       17.5\n",
      " 25.8        18.25       10.         11.5        19.1        14.21\n",
      " 14.16       17.43       18.         15.7        16.         21.43\n",
      " 21.64       20.73       14.         17.9        28.4        15.96\n",
      " 18.25417615 23.65       20.36       21.9        22.95       23.59\n",
      " 17.57       21.27       17.3        22.32       18.9        24.7\n",
      " 24.         11.         13.         16.47       17.21       13.6\n",
      " 26.59       14.74       23.84       14.53       21.5        11.8\n",
      " 15.73       16.12       17.11       20.45       17.1        22.74\n",
      " 13.7        21.76       14.42       15.1        24.07       21.66\n",
      " 22.77       14.6        11.7        20.85       15.4        19.81\n",
      " 19.27       17.         18.88       20.         12.05       20.86\n",
      " 12.07       18.48       16.1        15.87       17.01       20.77\n",
      " 19.3        16.02       19.7        16.6        19.4        19.67\n",
      " 12.55       22.9        24.4        11.1        15.97       27.3\n",
      " 19.87       14.84       12.8        20.3        13.5        14.3\n",
      "  0.         17.45       12.7        22.3        13.93       19.6\n",
      " 24.3        15.04       13.1        25.01       16.73       15.3\n",
      " 17.92       21.1        10.5        20.65       11.72       22.7\n",
      " 16.07       19.16       11.33       14.8        17.4        18.56\n",
      " 18.12       15.6        16.5        26.6        27.62       13.68\n",
      " 23.5        28.09       17.68       22.71       23.9        21.14\n",
      " 18.33       16.55       15.5        23.8        12.9        19.08\n",
      " 15.64       20.54       11.3        20.14       22.54       15.26\n",
      " 12.4        23.2        18.2        15.29        8.         24.5\n",
      " 16.2        13.33       12.6        23.1        13.2        16.36\n",
      " 14.07       14.24       20.37       18.8        16.09       16.93\n",
      " 11.36       17.05       18.53       18.16       22.          9.43\n",
      " 21.4        33.54       24.52       27.39       22.5        13.49\n",
      " 11.49       22.07       23.08       15.         16.95        9.\n",
      " 19.01       18.06       21.7        26.         11.2        25.4\n",
      " 14.28       12.3        12.62       15.06       15.68       25.44\n",
      " 14.4        13.4        16.78       11.74       13.22       20.5\n",
      " 20.92       19.5        10.9        25.         14.95       25.47\n",
      " 12.97       10.4        21.12       17.85       19.49       12.19\n",
      " 15.8        10.93       17.72       16.3        11.57       19.12\n",
      " 14.67       15.17       21.79       16.9        19.15       21.\n",
      " 22.69       20.4        15.9        10.1        20.38       17.6\n",
      " 14.57       14.02       13.06        9.8        17.71       22.8\n",
      " 13.14       11.79       16.25       21.21       14.47       20.46\n",
      " 24.2        13.24       12.39       26.21       14.1        23.\n",
      " 33.44       17.19       18.3        12.         13.73       11.25\n",
      " 25.1        18.49       20.89       10.37       20.34       16.82\n",
      " 11.4        12.35       18.15       14.94       27.4        19.\n",
      " 10.2        26.1        17.97       19.72       10.13       25.17\n",
      " 12.81       32.26       26.2        13.17       19.44       16.77\n",
      " 19.2        21.38       21.72       14.66       11.18       19.34\n",
      " 19.64       15.2        19.33       18.4        19.83       31.79\n",
      " 14.7        16.38       17.54       17.84       11.05       13.01\n",
      " 16.4        22.1        16.51       25.83       23.03       10.8\n",
      " 11.9        18.1        13.45       12.37       20.63        9.52\n",
      "  8.6        10.6        18.59       16.46       17.2        21.02\n",
      " 18.19        9.7        16.52       20.68       13.58       17.7\n",
      " 22.48       20.64       21.19       16.98       14.75       24.8\n",
      "  9.9        21.56       17.67        7.94       12.83       18.78\n",
      " 15.15       16.7        14.69       18.44       15.63       13.9\n",
      " 13.53        6.4        18.86       11.68       23.01       16.05\n",
      " 12.85       18.69       19.59       11.56       15.11       21.03\n",
      " 20.7        26.3        14.49       23.3        12.98        8.3\n",
      " 16.96        8.7        27.28       17.09       17.16        9.5\n",
      " 27.03       13.8         9.3        24.6        19.98       19.71\n",
      "  7.5        25.6        14.9        13.44       21.13       17.44\n",
      " 12.65       21.8        14.81        8.2        18.23       15.85\n",
      "  8.1        14.39       18.51       11.78       12.5        20.58\n",
      " 26.8        12.63       19.09       19.69       14.2        12.51\n",
      " 26.83       15.74       21.2         8.5        14.59       12.1\n",
      " 14.62       24.04       25.5        18.18      ]\n",
      "Motor_CC\n",
      "[1248.          998.         1198.         1197.         1199.\n",
      " 1497.         3198.         2494.         1298.         1498.\n",
      " 1968.         2496.         2982.         2143.         1396.\n",
      " 1390.         2179.         1364.         1461.         1373.\n",
      "  796.         2523.         1193.         1620.01335312 1120.\n",
      " 2987.         1591.         1493.         2993.         1794.\n",
      " 2967.         1798.         1995.         1368.         1796.\n",
      " 1590.         1086.         1582.         1998.         2354.\n",
      " 1799.         1598.          999.         2609.         1991.\n",
      " 2499.         1341.          995.         2835.         2199.\n",
      " 1196.         4134.         2148.         1896.          793.\n",
      " 2393.          624.         1061.         2755.         2200.\n",
      "  814.         2360.         4806.         1997.         1599.\n",
      " 2995.         1950.         1495.         1399.         1596.\n",
      " 1978.         1999.         4367.         1984.         1595.\n",
      "   72.         2400.         1186.         2198.         2498.\n",
      "  936.         1496.          993.         2497.         1047.\n",
      " 2489.         1405.         1956.         3498.         1499.\n",
      " 1388.         1586.         2997.         1781.         3436.\n",
      " 2694.         2979.         2953.         2698.          799.\n",
      " 2092.         2956.         2446.         2696.         1395.\n",
      " 2894.         1172.         2359.         5998.         2996.\n",
      " 1948.         3597.         1194.         1462.         1150.\n",
      " 2773.         5204.         1985.         3200.         4951.\n",
      " 2487.         1969.         1468.         2771.         3197.\n",
      " 2147.         1299.         2477.         2925.         5461.\n",
      " 2706.         1242.         2999.         5000.         1597.\n",
      " 1422.         2362.          970.         2112.        ]\n",
      "Potencia\n",
      "[ 74.          67.          77.          80.          88.\n",
      "  75.         118.          81.         197.         100.\n",
      "  85.          98.         187.         157.         171.\n",
      " 203.         174.          76.         105.         117.\n",
      " 140.          87.          84.          91.          35.\n",
      " 136.          73.          62.          78.          90.\n",
      " 112.71770026 126.          70.         198.         121.\n",
      "  63.         270.         138.          82.         180.\n",
      " 245.         116.          83.          47.         190.\n",
      " 147.         112.         178.          94.          68.\n",
      " 170.         184.         108.         154.         241.\n",
      " 308.          93.          46.          86.         168.\n",
      "  71.         142.         258.         167.         102.\n",
      " 130.         103.         181.         235.         120.\n",
      " 141.          89.         169.         218.          61.\n",
      " 107.         194.         158.         335.         262.\n",
      " 201.         106.          58.          37.         160.\n",
      "  64.         139.          55.         132.         183.\n",
      "  57.         394.         153.         340.         191.\n",
      " 101.         237.          41.         215.         185.\n",
      " 246.         177.          65.         125.         186.\n",
      "  60.         165.          69.         265.         163.\n",
      " 300.         236.         272.         254.          79.\n",
      " 110.         123.          56.         152.         143.\n",
      " 104.         301.         148.         210.          40.\n",
      " 224.         306.         189.          99.         179.\n",
      " 127.          34.         364.          53.          97.\n",
      " 271.         114.         156.         320.          66.\n",
      " 313.         261.         444.         282.         150.\n",
      " 552.         204.         134.         450.         255.\n",
      " 240.          95.         200.         560.         122.\n",
      " 135.         199.         395.         113.         115.\n",
      " 144.          92.         175.         250.         207.\n",
      " 382.         192.         193.         281.         387.\n",
      " 161.         333.         488.         503.          38.\n",
      " 362.         155.         500.         164.         149.\n",
      " 231.        ]\n",
      "Asientos\n",
      "[ 5.          6.          7.          8.          5.28644176  4.\n",
      " 10.          9.          2.          0.        ]\n",
      "Descuento\n",
      "[ 0.   53.14  8.36 10.32  8.34  6.62  7.45  6.59  5.88  7.17  4.48  8.09\n",
      " 10.52 11.19 15.05  9.12 14.67  7.48  6.23 13.6  10.06  1.02  4.71 79.43\n",
      " 12.68  8.05 23.06 62.11 19.27 34.45  8.26 56.97  9.1  15.01  1.36 86.97\n",
      " 36.69 11.48 10.91 20.8   8.13  7.63  5.58  7.59 10.28  5.04 28.05  7.01\n",
      " 26.55  4.98 10.7  11.05 13.58  8.56 49.14 15.86  5.61  7.36 11.33 12.74\n",
      " 18.45 11.29 11.12  7.39 19.43  8.16 16.06 64.57 13.7  24.26 95.13 55.07\n",
      "  4.69 33.58 43.65  6.96  9.47 47.87  7.87 22.37 70.55 15.29  7.96 10.3\n",
      "  8.99  9.19 11.67  6.   11.66 21.72 15.17 11.15 11.27  9.97 92.5  12.47\n",
      " 10.42 14.72  4.53  4.61  9.56 14.65  6.21  5.95 59.77 18.64 50.4   4.87\n",
      " 47.2  25.52 44.28 23.94 54.43  5.54 11.88  8.54  6.41  9.79 11.39  4.24\n",
      " 21.69 15.68  4.04 69.22  7.46 23.89 12.88 10.97  9.51  7.82  9.55 64.14\n",
      " 19.39 20.74 71.15 11.2   8.73 15.34  4.66  8.55 13.49  7.97  8.82 15.72\n",
      " 16.65 48.64 78.76  8.03  9.04 12.53 20.87 11.75 11.28  7.98 12.22 23.25\n",
      "  6.45  5.87  6.32  1.66  5.71 47.16  1.28 64.76 12.02  5.45  8.71 15.57\n",
      "  5.72 21.1   7.13  7.37  9.99  6.42 10.48  4.43 19.37  8.63  4.93 10.15\n",
      "  6.54 21.   79.78 15.36 33.36 19.34  6.82  4.7   5.42 48.18  5.8  11.69\n",
      "  6.29  7.83 69.47 22.66  8.24 11.3  12.14 10.94 14.84 40.73  4.78  1.04\n",
      " 16.04 91.38 15.94  6.14  7.52 11.74 11.11 21.36  6.33  8.1   6.71 52.77\n",
      " 11.77  7.15 53.72  4.74  8.28 55.61  6.74 11.89  5.67 14.32 32.45 42.89\n",
      "  7.    2.3   6.67  8.68 23.37  8.8  22.74 21.38 63.71 52.46 11.16 26.95\n",
      "  5.9  17.7  10.63 11.37 37.38  7.88 10.34 10.65  4.05 67.87 13.4  10.04\n",
      "  8.84 27.    8.85  6.63 23.14  5.56  9.46 19.18 12.51 14.1   4.37 11.26\n",
      " 10.89  5.29  7.3   3.95  8.12  8.23 10.1   4.09 83.92 26.56  9.26 15.55\n",
      "  3.98 35.    8.61 11.44 50.97  5.12 40.62  5.44 49.49  6.51  4.9  11.47\n",
      " 12.27 13.23 24.02 12.79  5.36  6.56 54.7  12.12  5.51  7.54  4.59  7.56\n",
      " 15.59  6.94 15.02 71.82 12.57  5.3   6.68 10.81 14.23 10.57 14.2  45.67\n",
      " 13.59 44.59 24.63  9.62  9.09 12.56  6.05 20.46  1.13 22.87 70.43 43.81\n",
      " 11.63 12.67 43.07  7.55  7.43 14.07 10.83  9.89 13.33  7.94 10.25 11.01\n",
      "  7.67  8.78 99.92 52.26 14.22 39.57 11.85  1.39  9.78  5.57 16.95 12.34\n",
      " 41.94 42.48 34.89 12.33 33.91 16.67  7.69 58.67  4.55  8.44 24.01 33.51\n",
      "  1.   67.1  22.46 23.19  3.96 22.43  5.92 69.59 67.67 26.45  8.18 38.72\n",
      "  1.71 37.9   4.33  8.38  8.75 10.41  8.58 44.8  36.94 20.97 13.72 33.68\n",
      " 10.17  1.4   6.07 19.21  6.83 87.57  7.91 11.96 69.37  4.36 45.36  6.4\n",
      "  5.68 37.17 36.15  7.85  9.96 14.11 12.   20.48  5.35 11.71 11.58 53.68\n",
      "  9.83 43.31  6.78  4.8  25.4  22.95  3.91 34.6  25.27 16.84 15.38 13.74\n",
      "  6.43 12.9  53.41 32.01 62.07 48.79 39.27 95.04 10.13  8.57  7.33 16.4\n",
      " 50.26 60.59  8.17 18.35  9.58 11.81  6.99 11.06 10.99 72.64 92.79  8.69\n",
      " 21.77 23.64 13.76  6.8   9.72  9.14 30.19  7.7  22.86  9.93 15.45 24.82\n",
      " 11.56  8.93 11.   25.54 42.12  7.65 21.33  5.13  4.29 19.86  7.35 15.06\n",
      " 15.14  4.45 19.91  6.08 11.98]\n",
      "Precio_cat\n",
      "[3 2 4 5 1]\n"
     ]
    }
   ],
   "source": [
    "cols = data.columns.tolist()\n",
    "for i in cols:\n",
    "    print(i)\n",
    "    print(data[i].unique())"
   ]
  },
  {
   "cell_type": "markdown",
   "metadata": {},
   "source": [
    "# erase all missing data"
   ]
  },
  {
   "cell_type": "code",
   "execution_count": 17,
   "metadata": {},
   "outputs": [],
   "source": [
    "#data_without_nan = data_without_nan.drop('Tipo_marchas', axis=1).drop('Nombre', axis=1).drop('id', axis=1).drop('Ciudad', axis=1)\n",
    "test_id = test.id\n",
    "#test = test.drop('Tipo_marchas', axis=1).drop('Nombre', axis=1).drop('id', axis=1).drop('Ciudad', axis=1)\n",
    "#target = data.Precio_cat\n",
    "data = data.drop('id', axis=1)\n",
    "test = test.drop('id', axis=1)\n",
    "\n",
    "from imblearn.over_sampling import SMOTE\n",
    "oversample = SMOTE()\n",
    "data, data['Precio_cat'] = oversample.fit_resample(data, data['Precio_cat'])\n",
    "\n",
    "X = data.drop('Precio_cat', axis=1)\n",
    "y = data['Precio_cat']\n",
    "\n",
    "target = y"
   ]
  },
  {
   "cell_type": "markdown",
   "metadata": {},
   "source": [
    "Oversampling"
   ]
  },
  {
   "cell_type": "code",
   "execution_count": 18,
   "metadata": {
    "scrolled": true
   },
   "outputs": [
    {
     "data": {
      "text/plain": [
       "(11055, 9)"
      ]
     },
     "execution_count": 18,
     "metadata": {},
     "output_type": "execute_result"
    }
   ],
   "source": [
    "X.shape"
   ]
  },
  {
   "cell_type": "code",
   "execution_count": 19,
   "metadata": {},
   "outputs": [
    {
     "data": {
      "text/plain": [
       "(11055,)"
      ]
     },
     "execution_count": 19,
     "metadata": {},
     "output_type": "execute_result"
    }
   ],
   "source": [
    "y.shape"
   ]
  },
  {
   "cell_type": "code",
   "execution_count": 20,
   "metadata": {},
   "outputs": [
    {
     "data": {
      "text/plain": [
       "(11055, 9)"
      ]
     },
     "execution_count": 20,
     "metadata": {},
     "output_type": "execute_result"
    }
   ],
   "source": [
    "X.shape"
   ]
  },
  {
   "cell_type": "code",
   "execution_count": 21,
   "metadata": {},
   "outputs": [
    {
     "data": {
      "text/plain": [
       "(11055,)"
      ]
     },
     "execution_count": 21,
     "metadata": {},
     "output_type": "execute_result"
    }
   ],
   "source": [
    "y.shape"
   ]
  },
  {
   "cell_type": "markdown",
   "metadata": {},
   "source": [
    "Now, train the model"
   ]
  },
  {
   "cell_type": "code",
   "execution_count": 22,
   "metadata": {},
   "outputs": [
    {
     "name": "stdout",
     "output_type": "stream",
     "text": [
      "random_seed: 908486803\n",
      "Actual seed: 2232527064\n"
     ]
    }
   ],
   "source": [
    "import random\n",
    "# get random seed parameter for classifiers\n",
    "random_seed = random.randrange(2**32 - 1)\n",
    "seed = random_seed\n",
    "# seed used in first kaggle submission\n",
    "seed = 2232527064\n",
    "print(\"random_seed: \"+str(random_seed))\n",
    "from sklearn.model_selection import StratifiedKFold\n",
    "cv_ = StratifiedKFold(n_splits=5, shuffle=True)\n",
    "print(\"Actual seed: \"+str(seed))"
   ]
  },
  {
   "cell_type": "markdown",
   "metadata": {},
   "source": [
    "Model tuning"
   ]
  },
  {
   "cell_type": "code",
   "execution_count": 23,
   "metadata": {},
   "outputs": [],
   "source": [
    "params = {\n",
    "    # Parameters that we are going to tune.\n",
    "    'max_depth':6,\n",
    "    'min_child_weight': 1,\n",
    "    'eta':.3,\n",
    "    'subsample': 1,\n",
    "    'colsample_bytree': 1\n",
    "}\n",
    "params['eval_metric'] = \"mae\"\n",
    "num_boost_round = 999"
   ]
  },
  {
   "cell_type": "code",
   "execution_count": 24,
   "metadata": {},
   "outputs": [
    {
     "name": "stdout",
     "output_type": "stream",
     "text": [
      "     train-mae-mean  train-mae-std  test-mae-mean  test-mae-std\n",
      "0          1.754827       0.007581       1.755621      0.031935\n",
      "1          1.243317       0.005464       1.246973      0.024759\n",
      "2          0.897087       0.003450       0.903719      0.018745\n",
      "3          0.665282       0.002221       0.675624      0.014796\n",
      "4          0.513298       0.002309       0.527808      0.011042\n",
      "..              ...            ...            ...           ...\n",
      "274        0.080040       0.001636       0.226604      0.003947\n",
      "275        0.079747       0.001659       0.226613      0.003891\n",
      "276        0.079493       0.001661       0.226523      0.003860\n",
      "277        0.079245       0.001577       0.226477      0.003833\n",
      "278        0.079084       0.001565       0.226428      0.003871\n",
      "\n",
      "[279 rows x 4 columns]\n",
      "0.2264278\n"
     ]
    },
    {
     "data": {
      "text/plain": [
       "\"#model = RandomForestClassifier(random_state=random_seed)\\nmodel = XGBClassifier()\\n#model.fit(X, y)\\nfrom sklearn.model_selection import cross_val_predict\\ny_pred = cross_val_predict(model, X, y, cv=cv_, n_jobs=-1)\\n\\nfrom sklearn.metrics import classification_report, confusion_matrix\\nrf_cmatrix = confusion_matrix(y, y_pred)\\nrf_report = get_classification_report(y, y_pred)\\nreport = cmdata_report(rf_cmatrix, 'Random Forest', report)\""
      ]
     },
     "execution_count": 24,
     "metadata": {},
     "output_type": "execute_result"
    }
   ],
   "source": [
    "from sklearn.ensemble import RandomForestClassifier\n",
    "import xgboost as xgb\n",
    "from sklearn.metrics import mean_absolute_error\n",
    "\n",
    "dtrain = xgb.DMatrix(X, label=y)\n",
    "\n",
    "cv_results = xgb.cv(\n",
    "    params,\n",
    "    dtrain,\n",
    "    num_boost_round=num_boost_round,\n",
    "    seed=seed,\n",
    "    nfold=5,\n",
    "    metrics=params['eval_metric'],\n",
    "    early_stopping_rounds=10\n",
    ")\n",
    "\n",
    "print(cv_results)\n",
    "print(cv_results['test-mae-mean'].min())\n",
    "\n",
    "'''#model = RandomForestClassifier(random_state=random_seed)\n",
    "model = XGBClassifier()\n",
    "#model.fit(X, y)\n",
    "from sklearn.model_selection import cross_val_predict\n",
    "y_pred = cross_val_predict(model, X, y, cv=cv_, n_jobs=-1)\n",
    "\n",
    "from sklearn.metrics import classification_report, confusion_matrix\n",
    "rf_cmatrix = confusion_matrix(y, y_pred)\n",
    "rf_report = get_classification_report(y, y_pred)\n",
    "report = cmdata_report(rf_cmatrix, 'Random Forest', report)'''"
   ]
  },
  {
   "cell_type": "code",
   "execution_count": 25,
   "metadata": {
    "scrolled": true
   },
   "outputs": [
    {
     "data": {
      "text/plain": [
       "'gridsearch_params = [\\n    (max_depth, min_child_weight)\\n    for max_depth in range(3,20)\\n    for min_child_weight in range(2,4)\\n]\\n\\nmin_mae = float(\"Inf\")\\nbest_params = None\\nfor max_depth, min_child_weight in gridsearch_params:\\n    print(\"CV with max_depth={}, min_child_weight={}\".format(\\n                             max_depth,\\n                             min_child_weight))    # Update our parameters\\n    params[\\'max_depth\\'] = max_depth\\n    params[\\'min_child_weight\\'] = min_child_weight    # Run CV\\n    cv_results = xgb.cv(\\n        params,\\n        dtrain,\\n        num_boost_round=num_boost_round,\\n        seed=seed,\\n        nfold=5,\\n        metrics=params[\\'eval_metric\\'],\\n        early_stopping_rounds=10\\n    )    # Update best MAE\\n    mean_mae = cv_results[\\'test-mae-mean\\'].min()\\n    boost_rounds = cv_results[\\'test-mae-mean\\'].argmin()\\n    print(\"\\tMAE {} for {} rounds\".format(mean_mae, boost_rounds))\\n    if mean_mae < min_mae:\\n        min_mae = mean_mae\\n        best_params = (max_depth,min_child_weight)\\n        \\nprint(\"Best params: {}, {}, MAE: {}\".format(best_params[0], best_params[1], min_mae))\\nparams[\\'max_depth\\'] = best_params[0]\\nparams[\\'min_child_weight\\'] = best_params[1]\\n# Best params: 11, 6, MAE: 0.2130952 range(9,12) y range(5,8)\\n# Best params: 16, 2, MAE: 0.20072779999999998 range(3,20) y range(2,12)\\n# Best params: 19, 2, MAE: 0.20194359999999997'"
      ]
     },
     "execution_count": 25,
     "metadata": {},
     "output_type": "execute_result"
    }
   ],
   "source": [
    "'''gridsearch_params = [\n",
    "    (max_depth, min_child_weight)\n",
    "    for max_depth in range(3,20)\n",
    "    for min_child_weight in range(2,4)\n",
    "]\n",
    "\n",
    "min_mae = float(\"Inf\")\n",
    "best_params = None\n",
    "for max_depth, min_child_weight in gridsearch_params:\n",
    "    print(\"CV with max_depth={}, min_child_weight={}\".format(\n",
    "                             max_depth,\n",
    "                             min_child_weight))    # Update our parameters\n",
    "    params['max_depth'] = max_depth\n",
    "    params['min_child_weight'] = min_child_weight    # Run CV\n",
    "    cv_results = xgb.cv(\n",
    "        params,\n",
    "        dtrain,\n",
    "        num_boost_round=num_boost_round,\n",
    "        seed=seed,\n",
    "        nfold=5,\n",
    "        metrics=params['eval_metric'],\n",
    "        early_stopping_rounds=10\n",
    "    )    # Update best MAE\n",
    "    mean_mae = cv_results['test-mae-mean'].min()\n",
    "    boost_rounds = cv_results['test-mae-mean'].argmin()\n",
    "    print(\"\\tMAE {} for {} rounds\".format(mean_mae, boost_rounds))\n",
    "    if mean_mae < min_mae:\n",
    "        min_mae = mean_mae\n",
    "        best_params = (max_depth,min_child_weight)\n",
    "        \n",
    "print(\"Best params: {}, {}, MAE: {}\".format(best_params[0], best_params[1], min_mae))\n",
    "params['max_depth'] = best_params[0]\n",
    "params['min_child_weight'] = best_params[1]\n",
    "# Best params: 11, 6, MAE: 0.2130952 range(9,12) y range(5,8)\n",
    "# Best params: 16, 2, MAE: 0.20072779999999998 range(3,20) y range(2,12)\n",
    "# Best params: 19, 2, MAE: 0.20194359999999997'''"
   ]
  },
  {
   "cell_type": "code",
   "execution_count": 26,
   "metadata": {},
   "outputs": [
    {
     "data": {
      "text/plain": [
       "{'max_depth': 6,\n",
       " 'min_child_weight': 1,\n",
       " 'eta': 0.3,\n",
       " 'subsample': 1,\n",
       " 'colsample_bytree': 1,\n",
       " 'eval_metric': 'mae'}"
      ]
     },
     "execution_count": 26,
     "metadata": {},
     "output_type": "execute_result"
    }
   ],
   "source": [
    "params"
   ]
  },
  {
   "cell_type": "code",
   "execution_count": 27,
   "metadata": {
    "scrolled": true
   },
   "outputs": [
    {
     "data": {
      "text/plain": [
       "'\\'gridsearch_params = [\\n    (subsample, colsample)\\n    for subsample in [i/10. for i in range(3,11)] # change to (7,11)\\n    for colsample in [i/10. for i in range(3,11)]\\n]\\n\\nmin_mae = float(\"Inf\")\\nbest_params = None# We start by the largest values and go down to the smallest\\nfor subsample, colsample in reversed(gridsearch_params):\\n    print(\"CV with subsample={}, colsample={}\".format(\\n                             subsample,\\n                             colsample))    # We update our parameters\\n    params[\\'subsample\\'] = subsample\\n    params[\\'colsample_bytree\\'] = colsample    # Run CV\\n    cv_results = xgb.cv(\\n        params,\\n        dtrain,\\n        num_boost_round=num_boost_round,\\n        seed=seed,\\n        nfold=5,\\n        metrics=params[\\'eval_metric\\'],\\n        early_stopping_rounds=10\\n    )    # Update best score\\n    mean_mae = cv_results[\\'test-mae-mean\\'].min()\\n    boost_rounds = cv_results[\\'test-mae-mean\\'].argmin()\\n    print(\"\\tMAE {} for {} rounds\".format(mean_mae, boost_rounds))\\n    if mean_mae < min_mae:\\n        min_mae = mean_mae\\n        best_params = (subsample,colsample)\\nprint(\"Best params: {}, {}, MAE: {}\".format(best_params[0], best_params[1], min_mae))\\nparams[\\'subsample\\'] = best_params[0]\\nparams[\\'colsample_bytree\\'] = best_params[1]\\n\\n# Best params: 1.0, 1.0, MAE: 0.20072799999999996 range(3,11)'"
      ]
     },
     "execution_count": 27,
     "metadata": {},
     "output_type": "execute_result"
    }
   ],
   "source": [
    "''''gridsearch_params = [\n",
    "    (subsample, colsample)\n",
    "    for subsample in [i/10. for i in range(3,11)] # change to (7,11)\n",
    "    for colsample in [i/10. for i in range(3,11)]\n",
    "]\n",
    "\n",
    "min_mae = float(\"Inf\")\n",
    "best_params = None# We start by the largest values and go down to the smallest\n",
    "for subsample, colsample in reversed(gridsearch_params):\n",
    "    print(\"CV with subsample={}, colsample={}\".format(\n",
    "                             subsample,\n",
    "                             colsample))    # We update our parameters\n",
    "    params['subsample'] = subsample\n",
    "    params['colsample_bytree'] = colsample    # Run CV\n",
    "    cv_results = xgb.cv(\n",
    "        params,\n",
    "        dtrain,\n",
    "        num_boost_round=num_boost_round,\n",
    "        seed=seed,\n",
    "        nfold=5,\n",
    "        metrics=params['eval_metric'],\n",
    "        early_stopping_rounds=10\n",
    "    )    # Update best score\n",
    "    mean_mae = cv_results['test-mae-mean'].min()\n",
    "    boost_rounds = cv_results['test-mae-mean'].argmin()\n",
    "    print(\"\\tMAE {} for {} rounds\".format(mean_mae, boost_rounds))\n",
    "    if mean_mae < min_mae:\n",
    "        min_mae = mean_mae\n",
    "        best_params = (subsample,colsample)\n",
    "print(\"Best params: {}, {}, MAE: {}\".format(best_params[0], best_params[1], min_mae))\n",
    "params['subsample'] = best_params[0]\n",
    "params['colsample_bytree'] = best_params[1]\n",
    "\n",
    "# Best params: 1.0, 1.0, MAE: 0.20072799999999996 range(3,11)'''"
   ]
  },
  {
   "cell_type": "code",
   "execution_count": 28,
   "metadata": {},
   "outputs": [
    {
     "data": {
      "text/plain": [
       "'min_mae = float(\"Inf\")\\nbest_params = None \\nfor eta in [.3, .2, .1, .05, .01, .005]:\\n    print(\"CV with eta={}\".format(eta))    # We update our parameters\\n    params[\\'eta\\'] = eta    # Run and time CV\\n    cv_results = xgb.cv(\\n            params,\\n            dtrain,\\n            num_boost_round=num_boost_round,\\n            seed=seed,\\n            nfold=5,\\n            metrics=params[\\'eval_metric\\'],\\n            early_stopping_rounds=10\\n          )    # Update best score\\n    mean_mae = cv_results[\\'test-mae-mean\\'].min()\\n    boost_rounds = cv_results[\\'test-mae-mean\\'].argmin()\\n    print(\"\\tMAE {} for {} rounds\\n\".format(mean_mae, boost_rounds))\\n    if mean_mae < min_mae:\\n        min_mae = mean_mae\\n        best_params = eta\\nprint(\"Best params: {}, MAE: {}\".format(best_params, min_mae))\\nparams[\\'eta\\'] = best_params'"
      ]
     },
     "execution_count": 28,
     "metadata": {},
     "output_type": "execute_result"
    }
   ],
   "source": [
    "'''min_mae = float(\"Inf\")\n",
    "best_params = None \n",
    "for eta in [.3, .2, .1, .05, .01, .005]:\n",
    "    print(\"CV with eta={}\".format(eta))    # We update our parameters\n",
    "    params['eta'] = eta    # Run and time CV\n",
    "    cv_results = xgb.cv(\n",
    "            params,\n",
    "            dtrain,\n",
    "            num_boost_round=num_boost_round,\n",
    "            seed=seed,\n",
    "            nfold=5,\n",
    "            metrics=params['eval_metric'],\n",
    "            early_stopping_rounds=10\n",
    "          )    # Update best score\n",
    "    mean_mae = cv_results['test-mae-mean'].min()\n",
    "    boost_rounds = cv_results['test-mae-mean'].argmin()\n",
    "    print(\"\\tMAE {} for {} rounds\\n\".format(mean_mae, boost_rounds))\n",
    "    if mean_mae < min_mae:\n",
    "        min_mae = mean_mae\n",
    "        best_params = eta\n",
    "print(\"Best params: {}, MAE: {}\".format(best_params, min_mae))\n",
    "params['eta'] = best_params'''"
   ]
  },
  {
   "cell_type": "code",
   "execution_count": 29,
   "metadata": {},
   "outputs": [],
   "source": [
    "#params\n",
    "\n",
    "params = {'max_depth': 11,\n",
    " 'min_child_weight': 6,\n",
    " 'eta': 0.05,\n",
    " 'subsample': 1.0,\n",
    " 'colsample_bytree': 1.0,\n",
    " 'eval_metric': 'mae'}\n"
   ]
  },
  {
   "cell_type": "code",
   "execution_count": 30,
   "metadata": {
    "scrolled": false
   },
   "outputs": [
    {
     "ename": "AxisError",
     "evalue": "axis 1 is out of bounds for array of dimension 1",
     "output_type": "error",
     "traceback": [
      "\u001b[0;31m---------------------------------------------------------------------------\u001b[0m",
      "\u001b[0;31mAxisError\u001b[0m                                 Traceback (most recent call last)",
      "\u001b[0;32m<ipython-input-30-6cc294439258>\u001b[0m in \u001b[0;36m<module>\u001b[0;34m\u001b[0m\n\u001b[1;32m     12\u001b[0m \u001b[0mmodel\u001b[0m \u001b[0;34m=\u001b[0m \u001b[0mxgb\u001b[0m\u001b[0;34m.\u001b[0m\u001b[0mtrain\u001b[0m\u001b[0;34m(\u001b[0m\u001b[0mparams\u001b[0m\u001b[0;34m,\u001b[0m \u001b[0mdtrain\u001b[0m\u001b[0;34m,\u001b[0m \u001b[0mrounds\u001b[0m\u001b[0;34m)\u001b[0m\u001b[0;34m\u001b[0m\u001b[0;34m\u001b[0m\u001b[0m\n\u001b[1;32m     13\u001b[0m \u001b[0mxpreds_proba\u001b[0m \u001b[0;34m=\u001b[0m \u001b[0mmodel\u001b[0m\u001b[0;34m.\u001b[0m\u001b[0mpredict\u001b[0m\u001b[0;34m(\u001b[0m\u001b[0mxgb\u001b[0m\u001b[0;34m.\u001b[0m\u001b[0mDMatrix\u001b[0m\u001b[0;34m(\u001b[0m\u001b[0mtest\u001b[0m\u001b[0;34m)\u001b[0m\u001b[0;34m)\u001b[0m\u001b[0;34m\u001b[0m\u001b[0;34m\u001b[0m\u001b[0m\n\u001b[0;32m---> 14\u001b[0;31m \u001b[0mpredictions\u001b[0m \u001b[0;34m=\u001b[0m \u001b[0mnp\u001b[0m\u001b[0;34m.\u001b[0m\u001b[0mround\u001b[0m\u001b[0;34m(\u001b[0m\u001b[0mnp\u001b[0m\u001b[0;34m.\u001b[0m\u001b[0margmax\u001b[0m\u001b[0;34m(\u001b[0m\u001b[0mxpreds_proba\u001b[0m\u001b[0;34m,\u001b[0m \u001b[0maxis\u001b[0m\u001b[0;34m=\u001b[0m\u001b[0;36m1\u001b[0m\u001b[0;34m)\u001b[0m\u001b[0;34m)\u001b[0m\u001b[0;34m.\u001b[0m\u001b[0mastype\u001b[0m\u001b[0;34m(\u001b[0m\u001b[0mint\u001b[0m\u001b[0;34m)\u001b[0m \u001b[0;34m+\u001b[0m \u001b[0;36m1\u001b[0m\u001b[0;34m\u001b[0m\u001b[0;34m\u001b[0m\u001b[0m\n\u001b[0m\u001b[1;32m     15\u001b[0m \u001b[0;31m#predictions = model.predict(test)\u001b[0m\u001b[0;34m\u001b[0m\u001b[0;34m\u001b[0m\u001b[0;34m\u001b[0m\u001b[0m\n",
      "\u001b[0;32m<__array_function__ internals>\u001b[0m in \u001b[0;36margmax\u001b[0;34m(*args, **kwargs)\u001b[0m\n",
      "\u001b[0;32m~/anaconda3/lib/python3.7/site-packages/numpy/core/fromnumeric.py\u001b[0m in \u001b[0;36margmax\u001b[0;34m(a, axis, out)\u001b[0m\n\u001b[1;32m   1184\u001b[0m \u001b[0;34m\u001b[0m\u001b[0m\n\u001b[1;32m   1185\u001b[0m     \"\"\"\n\u001b[0;32m-> 1186\u001b[0;31m     \u001b[0;32mreturn\u001b[0m \u001b[0m_wrapfunc\u001b[0m\u001b[0;34m(\u001b[0m\u001b[0ma\u001b[0m\u001b[0;34m,\u001b[0m \u001b[0;34m'argmax'\u001b[0m\u001b[0;34m,\u001b[0m \u001b[0maxis\u001b[0m\u001b[0;34m=\u001b[0m\u001b[0maxis\u001b[0m\u001b[0;34m,\u001b[0m \u001b[0mout\u001b[0m\u001b[0;34m=\u001b[0m\u001b[0mout\u001b[0m\u001b[0;34m)\u001b[0m\u001b[0;34m\u001b[0m\u001b[0;34m\u001b[0m\u001b[0m\n\u001b[0m\u001b[1;32m   1187\u001b[0m \u001b[0;34m\u001b[0m\u001b[0m\n\u001b[1;32m   1188\u001b[0m \u001b[0;34m\u001b[0m\u001b[0m\n",
      "\u001b[0;32m~/anaconda3/lib/python3.7/site-packages/numpy/core/fromnumeric.py\u001b[0m in \u001b[0;36m_wrapfunc\u001b[0;34m(obj, method, *args, **kwds)\u001b[0m\n\u001b[1;32m     59\u001b[0m \u001b[0;34m\u001b[0m\u001b[0m\n\u001b[1;32m     60\u001b[0m     \u001b[0;32mtry\u001b[0m\u001b[0;34m:\u001b[0m\u001b[0;34m\u001b[0m\u001b[0;34m\u001b[0m\u001b[0m\n\u001b[0;32m---> 61\u001b[0;31m         \u001b[0;32mreturn\u001b[0m \u001b[0mbound\u001b[0m\u001b[0;34m(\u001b[0m\u001b[0;34m*\u001b[0m\u001b[0margs\u001b[0m\u001b[0;34m,\u001b[0m \u001b[0;34m**\u001b[0m\u001b[0mkwds\u001b[0m\u001b[0;34m)\u001b[0m\u001b[0;34m\u001b[0m\u001b[0;34m\u001b[0m\u001b[0m\n\u001b[0m\u001b[1;32m     62\u001b[0m     \u001b[0;32mexcept\u001b[0m \u001b[0mTypeError\u001b[0m\u001b[0;34m:\u001b[0m\u001b[0;34m\u001b[0m\u001b[0;34m\u001b[0m\u001b[0m\n\u001b[1;32m     63\u001b[0m         \u001b[0;31m# A TypeError occurs if the object does have such a method in its\u001b[0m\u001b[0;34m\u001b[0m\u001b[0;34m\u001b[0m\u001b[0;34m\u001b[0m\u001b[0m\n",
      "\u001b[0;31mAxisError\u001b[0m: axis 1 is out of bounds for array of dimension 1"
     ]
    }
   ],
   "source": [
    "cv_results = xgb.cv(\n",
    "            params,\n",
    "            dtrain,\n",
    "            num_boost_round=num_boost_round,\n",
    "            seed=seed,\n",
    "            nfold=5,\n",
    "            metrics=params['eval_metric'],\n",
    "            early_stopping_rounds=10\n",
    "          ) \n",
    "#cv_results\n",
    "rounds = cv_results.shape[0] - 1\n",
    "model = xgb.train(params, dtrain, rounds)\n",
    "xpreds_proba = model.predict(xgb.DMatrix(test))\n",
    "#predictions = np.round(np.argmax(xpreds_proba, axis=0)).astype(int) + 1\n",
    "#predictions = model.predict(test)"
   ]
  },
  {
   "cell_type": "code",
   "execution_count": 36,
   "metadata": {},
   "outputs": [],
   "source": [
    "for i in range(len(xpreds_proba)):\n",
    "    xpreds_proba[i] = int(xpreds_proba[i])"
   ]
  },
  {
   "cell_type": "code",
   "execution_count": 38,
   "metadata": {},
   "outputs": [],
   "source": [
    "prediction = xpreds_proba"
   ]
  },
  {
   "cell_type": "code",
   "execution_count": 39,
   "metadata": {},
   "outputs": [],
   "source": [
    "submit = pd.DataFrame(columns = ['id', 'Precio_cat'])\n",
    "submit['Precio_cat'] = prediction.tolist()\n",
    "submit['id'] = test_id.tolist()"
   ]
  },
  {
   "cell_type": "code",
   "execution_count": null,
   "metadata": {},
   "outputs": [],
   "source": [
    "a"
   ]
  },
  {
   "cell_type": "code",
   "execution_count": null,
   "metadata": {},
   "outputs": [],
   "source": [
    "#cv_results['train-mae-mean'].min()\n",
    "#num_boost_round = cv_results['train-mae-mean'].idxmin() + 1"
   ]
  },
  {
   "cell_type": "code",
   "execution_count": null,
   "metadata": {},
   "outputs": [],
   "source": [
    "#boost = xgb.train(params, dtrain, num_boost_round=num_boost_round)\n",
    "# make prediction\n",
    "#dtest = xgb.DMatrix(test)\n",
    "#preds = boost.predict(dtest)"
   ]
  },
  {
   "cell_type": "code",
   "execution_count": null,
   "metadata": {},
   "outputs": [],
   "source": [
    "params"
   ]
  },
  {
   "cell_type": "code",
   "execution_count": null,
   "metadata": {},
   "outputs": [],
   "source": [
    "from xgboost.sklearn import XGBClassifier  \n",
    "model = XGBClassifier(\n",
    "    max_depth=params['max_depth'],\n",
    "    #learning_rate=params['eta'],\n",
    "    njobs=-1,\n",
    "    min_child_weight=params['min_child_weight'],\n",
    "    subsample=params['subsample'],\n",
    "    colsample_bytree=params['colsample_bytree'],\n",
    "    random_state=seed\n",
    ")\n",
    "model.fit(X, y)\n",
    "from sklearn.model_selection import cross_val_predict\n",
    "y_pred = cross_val_predict(model, X, y, cv=cv_, n_jobs=-1)\n",
    "\n",
    "from sklearn.metrics import classification_report, confusion_matrix\n",
    "rf_cmatrix = confusion_matrix(y, y_pred)\n",
    "rf_report = get_classification_report(y, y_pred)\n",
    "report = cmdata_report(rf_cmatrix, 'Random Forest', report)"
   ]
  },
  {
   "cell_type": "code",
   "execution_count": null,
   "metadata": {
    "scrolled": true
   },
   "outputs": [],
   "source": [
    "cols = X.columns.tolist()\n",
    "for i in cols:\n",
    "    print(i)\n",
    "    print(X[i].unique())"
   ]
  },
  {
   "cell_type": "code",
   "execution_count": null,
   "metadata": {
    "scrolled": true
   },
   "outputs": [],
   "source": [
    "report"
   ]
  },
  {
   "cell_type": "code",
   "execution_count": null,
   "metadata": {},
   "outputs": [],
   "source": [
    "rf_report"
   ]
  },
  {
   "cell_type": "markdown",
   "metadata": {},
   "source": [
    "And get the prediction"
   ]
  },
  {
   "cell_type": "code",
   "execution_count": null,
   "metadata": {},
   "outputs": [],
   "source": [
    "target.head()"
   ]
  },
  {
   "cell_type": "code",
   "execution_count": null,
   "metadata": {
    "scrolled": true
   },
   "outputs": [],
   "source": [
    "model.fit(X, target)\n",
    "prediction = model.predict(test)"
   ]
  },
  {
   "cell_type": "code",
   "execution_count": null,
   "metadata": {},
   "outputs": [],
   "source": [
    "prediction"
   ]
  },
  {
   "cell_type": "code",
   "execution_count": null,
   "metadata": {},
   "outputs": [],
   "source": [
    "test_id"
   ]
  },
  {
   "cell_type": "markdown",
   "metadata": {},
   "source": [
    "Get csv submission"
   ]
  },
  {
   "cell_type": "code",
   "execution_count": null,
   "metadata": {},
   "outputs": [],
   "source": [
    "submit = pd.DataFrame(columns = ['id', 'Precio_cat'])\n",
    "submit['Precio_cat'] = prediction.tolist()\n",
    "submit['id'] = test_id.tolist()"
   ]
  },
  {
   "cell_type": "code",
   "execution_count": 40,
   "metadata": {},
   "outputs": [
    {
     "data": {
      "text/html": [
       "<div>\n",
       "<style scoped>\n",
       "    .dataframe tbody tr th:only-of-type {\n",
       "        vertical-align: middle;\n",
       "    }\n",
       "\n",
       "    .dataframe tbody tr th {\n",
       "        vertical-align: top;\n",
       "    }\n",
       "\n",
       "    .dataframe thead th {\n",
       "        text-align: right;\n",
       "    }\n",
       "</style>\n",
       "<table border=\"1\" class=\"dataframe\">\n",
       "  <thead>\n",
       "    <tr style=\"text-align: right;\">\n",
       "      <th></th>\n",
       "      <th>id</th>\n",
       "      <th>Precio_cat</th>\n",
       "    </tr>\n",
       "  </thead>\n",
       "  <tbody>\n",
       "    <tr>\n",
       "      <th>0</th>\n",
       "      <td>4820</td>\n",
       "      <td>5.0</td>\n",
       "    </tr>\n",
       "    <tr>\n",
       "      <th>1</th>\n",
       "      <td>4821</td>\n",
       "      <td>2.0</td>\n",
       "    </tr>\n",
       "    <tr>\n",
       "      <th>2</th>\n",
       "      <td>4822</td>\n",
       "      <td>1.0</td>\n",
       "    </tr>\n",
       "    <tr>\n",
       "      <th>3</th>\n",
       "      <td>4823</td>\n",
       "      <td>2.0</td>\n",
       "    </tr>\n",
       "    <tr>\n",
       "      <th>4</th>\n",
       "      <td>4824</td>\n",
       "      <td>1.0</td>\n",
       "    </tr>\n",
       "    <tr>\n",
       "      <th>...</th>\n",
       "      <td>...</td>\n",
       "      <td>...</td>\n",
       "    </tr>\n",
       "    <tr>\n",
       "      <th>1154</th>\n",
       "      <td>5974</td>\n",
       "      <td>1.0</td>\n",
       "    </tr>\n",
       "    <tr>\n",
       "      <th>1155</th>\n",
       "      <td>5975</td>\n",
       "      <td>2.0</td>\n",
       "    </tr>\n",
       "    <tr>\n",
       "      <th>1156</th>\n",
       "      <td>5976</td>\n",
       "      <td>4.0</td>\n",
       "    </tr>\n",
       "    <tr>\n",
       "      <th>1157</th>\n",
       "      <td>5977</td>\n",
       "      <td>5.0</td>\n",
       "    </tr>\n",
       "    <tr>\n",
       "      <th>1158</th>\n",
       "      <td>5978</td>\n",
       "      <td>5.0</td>\n",
       "    </tr>\n",
       "  </tbody>\n",
       "</table>\n",
       "<p>1159 rows × 2 columns</p>\n",
       "</div>"
      ],
      "text/plain": [
       "        id  Precio_cat\n",
       "0     4820         5.0\n",
       "1     4821         2.0\n",
       "2     4822         1.0\n",
       "3     4823         2.0\n",
       "4     4824         1.0\n",
       "...    ...         ...\n",
       "1154  5974         1.0\n",
       "1155  5975         2.0\n",
       "1156  5976         4.0\n",
       "1157  5977         5.0\n",
       "1158  5978         5.0\n",
       "\n",
       "[1159 rows x 2 columns]"
      ]
     },
     "execution_count": 40,
     "metadata": {},
     "output_type": "execute_result"
    }
   ],
   "source": [
    "submit"
   ]
  },
  {
   "cell_type": "code",
   "execution_count": null,
   "metadata": {},
   "outputs": [],
   "source": [
    "submit.to_csv('submission.csv', index=False)"
   ]
  },
  {
   "cell_type": "code",
   "execution_count": null,
   "metadata": {
    "scrolled": true
   },
   "outputs": [],
   "source": [
    "test.columns.tolist()"
   ]
  }
 ],
 "metadata": {
  "kernelspec": {
   "display_name": "Python 3",
   "language": "python",
   "name": "python3"
  },
  "language_info": {
   "codemirror_mode": {
    "name": "ipython",
    "version": 3
   },
   "file_extension": ".py",
   "mimetype": "text/x-python",
   "name": "python",
   "nbconvert_exporter": "python",
   "pygments_lexer": "ipython3",
   "version": "3.7.6"
  }
 },
 "nbformat": 4,
 "nbformat_minor": 4
}
